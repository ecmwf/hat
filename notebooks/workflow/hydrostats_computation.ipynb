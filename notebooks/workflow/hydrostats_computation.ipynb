{
 "cells": [
  {
   "cell_type": "code",
   "execution_count": null,
   "id": "6908e7ba",
   "metadata": {},
   "outputs": [],
   "source": [
    "from hat.compute_hydrostats import stat_calc"
   ]
  },
  {
   "cell_type": "code",
   "execution_count": null,
   "id": "0c6c9405",
   "metadata": {},
   "outputs": [],
   "source": [
    "config = {\n",
    "    \"sim\": {\n",
    "        \"source\": [\"file\", \"extracted_timeseries.nc\"],\n",
    "        \"coords\": {\n",
    "            \"s\": \"station\",\n",
    "            \"t\": \"time\"\n",
    "        }\n",
    "    },\n",
    "    \"obs\": {\n",
    "        \"source\": [\"file\", \"observations.nc\"],\n",
    "        \"coords\": {\n",
    "            \"s\": \"station\",\n",
    "            \"t\": \"time\"\n",
    "        }\n",
    "    },\n",
    "    \"stats\" : [\"bias\", \"apb\", \"apb2\"],\n",
    "    \"output\": {\n",
    "        \"file\": \"statistics.nc\",\n",
    "        \"coords\": {\n",
    "            \"s\": \"station\",\n",
    "            \"t\": \"time\"\n",
    "        }\n",
    "    },\n",
    "}\n",
    "\n",
    "ds = stat_calc.stat_calc(config)\n",
    "ds"
   ]
  }
 ],
 "metadata": {
  "kernelspec": {
   "display_name": "Python 3",
   "language": "python",
   "name": "python3"
  },
  "language_info": {
   "codemirror_mode": {
    "name": "ipython",
    "version": 3
   },
   "file_extension": ".py",
   "mimetype": "text/x-python",
   "name": "python",
   "nbconvert_exporter": "python",
   "pygments_lexer": "ipython3",
   "version": "3.10.0"
  }
 },
 "nbformat": 4,
 "nbformat_minor": 5
}
