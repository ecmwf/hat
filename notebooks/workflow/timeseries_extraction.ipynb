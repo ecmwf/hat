{
 "cells": [
  {
   "cell_type": "code",
   "execution_count": null,
   "id": "6908e7ba",
   "metadata": {},
   "outputs": [],
   "source": [
    "from hat.extract_timeseries import extractor"
   ]
  },
  {
   "cell_type": "code",
   "execution_count": null,
   "id": "0c6c9405",
   "metadata": {},
   "outputs": [],
   "source": [
    "config = {\n",
    "    \"station\": {\n",
    "        \"file\": \"mapped_stations.csv\",\n",
    "        \"filter\": \"(StationLon >= 0) and (drainage_area_provided >= 0)\",\n",
    "        # EITHER USE INDEX OR COORDS, NOT BOTH\n",
    "        # INDEX is preferred but requires you to have the exact same grid\n",
    "        # as the upstream area used in station mapping\n",
    "        # \"index\": {\n",
    "        #     \"x\": \"opt_x_index\",\n",
    "        #     \"y\": \"opt_y_index\"\n",
    "        # },\n",
    "        \"coords\": {\n",
    "            \"x\": \"opt_x_coord\",\n",
    "            \"y\": \"opt_y_coord\"\n",
    "        },\n",
    "        \"name\": \"station_id\"\n",
    "    },\n",
    "    \"grid\": {\n",
    "        \"source\": [\"file\", \"./sim.nc\"],\n",
    "        \"coords\": {\n",
    "            \"x\": \"lat\",\n",
    "            \"y\": \"lon\",\n",
    "            # TODO: allow custom \"t\": \"time\" specification\n",
    "        }\n",
    "    },\n",
    "    \"output\": {\n",
    "        \"file\": \"extracted_timeseries.nc\"\n",
    "    },\n",
    "}\n",
    "\n",
    "ds = extractor.extractor(config)\n",
    "ds"
   ]
  }
 ],
 "metadata": {
  "kernelspec": {
   "display_name": "Python 3",
   "language": "python",
   "name": "python3"
  },
  "language_info": {
   "codemirror_mode": {
    "name": "ipython",
    "version": 3
   },
   "file_extension": ".py",
   "mimetype": "text/x-python",
   "name": "python",
   "nbconvert_exporter": "python",
   "pygments_lexer": "ipython3",
   "version": "3.10.0"
  }
 },
 "nbformat": 4,
 "nbformat_minor": 5
}
