{
 "cells": [
  {
   "cell_type": "code",
   "execution_count": null,
   "id": "6908e7ba",
   "metadata": {},
   "outputs": [],
   "source": [
    "from hat.station_mapping import mapper"
   ]
  },
  {
   "cell_type": "code",
   "execution_count": null,
   "id": "8dbd8301",
   "metadata": {},
   "outputs": [],
   "source": [
    "config = {\n",
    "    \"station\": {\n",
    "        \"file\": \"stations.csv\",\n",
    "        \"filter\": \"(StationLon >= 0) and (drainage_area_provided >= 0)\",\n",
    "        \"coords\": {\n",
    "            \"x\": \"StationLat\",\n",
    "            \"y\": \"StationLon\"\n",
    "        },\n",
    "        \"metric\": \"drainage_area_provided\"\n",
    "    },\n",
    "    \"grid\": {\n",
    "        \"source\": [\"file\", \"upstream_area.nc\"],\n",
    "        \"coords\": {\n",
    "            \"x\": \"lat\",\n",
    "            \"y\": \"lon\"\n",
    "        }\n",
    "    },\n",
    "    \"blacklist\": {\n",
    "        \"source\": [\"file\", \"mask.nc\"]\n",
    "    },\n",
    "    \"parameters\": {\n",
    "        \"max_search_distance\": 5,\n",
    "        \"metric_error_func\": \"mape\", #options are mse, mape, mspe, mae, zero, rmse\n",
    "        \"distance_error_func\": \"mse\",\n",
    "        \"lambda\": 0, # error = metric_error_func + lambda * distance_error_func\n",
    "        \"max_error\": 0.2, # if error>max_error, just take nearest point since we have no idea\n",
    "        \"min_error\": 0 # if error[closest_point] <= min_error, don't bother searching (this is good enough)\n",
    "    },\n",
    "    \"output\": {\n",
    "        \"file\": \"mapped_stations.csv\"\n",
    "    },\n",
    "    \"plot\": {\n",
    "        \"error\": {\n",
    "            \"file\": \"hist.html\"\n",
    "        },\n",
    "        \"distance\": {\n",
    "            \"file\": \"heatmap.html\"\n",
    "        }\n",
    "    }\n",
    "}\n",
    "\n",
    "df = mapper.mapper(config)"
   ]
  }
 ],
 "metadata": {
  "kernelspec": {
   "display_name": "hat",
   "language": "python",
   "name": "python3"
  },
  "language_info": {
   "codemirror_mode": {
    "name": "ipython",
    "version": 3
   },
   "file_extension": ".py",
   "mimetype": "text/x-python",
   "name": "python",
   "nbconvert_exporter": "python",
   "pygments_lexer": "ipython3",
   "version": "3.10.0"
  }
 },
 "nbformat": 4,
 "nbformat_minor": 5
}
