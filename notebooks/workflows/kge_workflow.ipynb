{
 "cells": [
  {
   "cell_type": "markdown",
   "id": "79c9c3f4-4d8e-4d06-b413-804f9073ef31",
   "metadata": {},
   "source": [
    "### Kling Gupta Efficiency (KGE) workflow\n",
    "\n",
    "Data processing pipeline from grids to graphs"
   ]
  },
  {
   "cell_type": "code",
   "execution_count": null,
   "id": "10cd56ab-0458-46b5-a66e-3572fbed895c",
   "metadata": {},
   "outputs": [],
   "source": [
    "import os\n",
    "import xarray as xr\n",
    "\n",
    "from hat.observations import read_station_metadata\n",
    "from hat.extract_simulation_timeseries import extract_timeseries\n",
    "from hat.filters import filter_timeseries\n",
    "from hat.hydrostats import run_analysis, display_map\n",
    "from hat.graphs import graph_sims_and_obs"
   ]
  },
  {
   "cell_type": "markdown",
   "id": "c9f93134-3334-4def-8a2c-0423913ca84e",
   "metadata": {},
   "source": [
    "#### File paths"
   ]
  },
  {
   "cell_type": "code",
   "execution_count": null,
   "id": "99bc359b-bc61-435f-8709-e0be7241876b",
   "metadata": {},
   "outputs": [],
   "source": [
    "station_metadata_filepath = os.getenv('STATION_METADATA') \n",
    "station_observations_filepath = os.getenv('STATION_OBSERVATIONS')\n",
    "simulation_datadir = os.getenv('DESTINE_DAILY_2020') "
   ]
  },
  {
   "cell_type": "markdown",
   "id": "0eef9933-26cf-4acd-b1bd-b719294c52e4",
   "metadata": {},
   "source": [
    "#### Station metadata"
   ]
  },
  {
   "cell_type": "markdown",
   "id": "b7718c62-9ef5-4dcb-9a6f-766b5bbf6b97",
   "metadata": {},
   "source": [
    "Read station metadata"
   ]
  },
  {
   "cell_type": "code",
   "execution_count": null,
   "id": "ed6e07b8-d267-4e0f-8ea6-aed7c1dd544b",
   "metadata": {},
   "outputs": [],
   "source": [
    "station_metadata = read_station_metadata(station_metadata_filepath)\n",
    "station_metadata.plot()"
   ]
  },
  {
   "cell_type": "markdown",
   "id": "ffe7d66c-6ad3-4a79-a343-43f1e66f3ac3",
   "metadata": {},
   "source": [
    "#### Observations\n",
    "Read station observation data"
   ]
  },
  {
   "cell_type": "code",
   "execution_count": null,
   "id": "a91ce37c-6f37-4555-a0c6-bbc3c2952f7a",
   "metadata": {},
   "outputs": [],
   "source": [
    "obs = xr.open_dataset(station_observations_filepath)"
   ]
  },
  {
   "cell_type": "markdown",
   "id": "014106ed-f314-4e39-9cee-7b91a37df40c",
   "metadata": {},
   "source": [
    "#### Simulations\n",
    "Simulation timeseries from a collection of gridded files files"
   ]
  },
  {
   "cell_type": "code",
   "execution_count": null,
   "id": "74bb1fb0-c853-4fc2-9d6d-260d0fa634c4",
   "metadata": {},
   "outputs": [],
   "source": [
    "config = {'simulation_input_file_extension': '.nc'}"
   ]
  },
  {
   "cell_type": "code",
   "execution_count": null,
   "id": "8baff4c6-d64e-449c-a8b0-3ec9c102cdba",
   "metadata": {},
   "outputs": [],
   "source": [
    "sims = extract_timeseries(station_metadata, simulation_datadir, config=config)"
   ]
  },
  {
   "cell_type": "markdown",
   "id": "95a26014-a1bd-4314-8f17-419b94287821",
   "metadata": {},
   "source": [
    "#### Clean data"
   ]
  },
  {
   "cell_type": "code",
   "execution_count": null,
   "id": "b1221f0d-cd3d-46e1-ad13-75bd87fdd5d8",
   "metadata": {},
   "outputs": [],
   "source": [
    "sims, obs = filter_timeseries(sims, obs, threshold=70)"
   ]
  },
  {
   "cell_type": "markdown",
   "id": "3d0965eb-9dc1-4bef-9808-4c763f1dfeb1",
   "metadata": {},
   "source": [
    "#### Compute statistics"
   ]
  },
  {
   "cell_type": "code",
   "execution_count": null,
   "id": "97938b96-c048-48b9-aea1-46c45f3ea227",
   "metadata": {},
   "outputs": [],
   "source": [
    "stats = run_analysis(['kge', 'rmse', 'mae', 'correlation'], sims, obs)"
   ]
  },
  {
   "cell_type": "markdown",
   "id": "bbc93c64-055c-4181-8150-c85980c7b6b9",
   "metadata": {},
   "source": [
    "#### Map\n",
    "Show the results on a map"
   ]
  },
  {
   "cell_type": "code",
   "execution_count": null,
   "id": "58c7b2af-b890-4a19-960e-25015a9fca42",
   "metadata": {},
   "outputs": [],
   "source": [
    "display_map(stats, 'kge')"
   ]
  },
  {
   "cell_type": "markdown",
   "id": "55289e24-391b-4d3a-8582-3b9e780e085c",
   "metadata": {},
   "source": [
    "#### Graph\n",
    "Inspect specific points using a graph"
   ]
  },
  {
   "cell_type": "code",
   "execution_count": null,
   "id": "c79b9ba1-00ab-4470-8dac-78b7d8723817",
   "metadata": {},
   "outputs": [],
   "source": [
    "ID = 'G7098'\n",
    "graph_sims_and_obs(sims, obs, ID)"
   ]
  },
  {
   "cell_type": "code",
   "execution_count": null,
   "id": "ac583852-9247-4766-b3c4-e132ba9095d7",
   "metadata": {},
   "outputs": [],
   "source": [
    "print(f'Station {ID}: KGE = {stats.sel(station=ID).kge.data:.2f}')"
   ]
  },
  {
   "cell_type": "code",
   "execution_count": null,
   "id": "acff97cf-74af-4109-9ae2-4d658b2bc5a4",
   "metadata": {},
   "outputs": [],
   "source": []
  }
 ],
 "metadata": {
  "kernelspec": {
   "display_name": "Python 3 (ipykernel)",
   "language": "python",
   "name": "python3"
  },
  "language_info": {
   "codemirror_mode": {
    "name": "ipython",
    "version": 3
   },
   "file_extension": ".py",
   "mimetype": "text/x-python",
   "name": "python",
   "nbconvert_exporter": "python",
   "pygments_lexer": "ipython3",
   "version": "3.10.10"
  }
 },
 "nbformat": 4,
 "nbformat_minor": 5
}
