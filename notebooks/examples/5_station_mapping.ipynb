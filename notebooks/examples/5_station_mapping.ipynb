{
 "cells": [
  {
   "cell_type": "code",
   "execution_count": 1,
   "metadata": {},
   "outputs": [
    {
     "name": "stderr",
     "output_type": "stream",
     "text": [
      "/tmp/ipykernel_412656/1223242357.py:8: MatplotlibDeprecationWarning: The get_cmap function was deprecated in Matplotlib 3.7 and will be removed two minor releases later. Use ``matplotlib.colormaps[name]`` or ``matplotlib.colormaps.get_cmap(obj)`` instead.\n",
      "  cmap = plt.cm.get_cmap('PRGn')\n"
     ]
    }
   ],
   "source": [
    "# Import necessary components from your module\n",
    "from ipyleaflet import WidgetControl\n",
    "from hat.mapping.visualisation import GeoJSONLayerManager, InteractiveMap, create_circle_markers, create_gradient_legend, make_line_click_handler, make_style_callback, vector_style, create_polygon_legend\n",
    "import matplotlib.pyplot as plt\n",
    "import geopandas as gpd\n",
    "\n",
    "# Define a colormap and normalization (if needed)\n",
    "cmap = plt.cm.get_cmap('PRGn')\n",
    "norm = plt.Normalize(vmin=-10, vmax=10)\n",
    "\n",
    "gdf_line = gpd.read_file(\"~/freelance/02_ort_ecmwf/dev/hat/hat/mapping/station2grid_line.geojson\")\n",
    "gdf_line_new = gpd.read_file(\"~/freelance/02_ort_ecmwf/dev/hat/hat/mapping/station2grid_new_line.geojson\")\n",
    "gdf_station = gpd.read_file(\"~/freelance/02_ort_ecmwf/dev/hat/hat/mapping/station.geojson\")\n",
    "gdf_grid_nearest = gpd.read_file(\"~/freelance/02_ort_ecmwf/dev/hat/hat/mapping/near_grid.geojson\")\n",
    "gdf_grid_new = gpd.read_file(\"~/freelance/02_ort_ecmwf/dev/hat/hat/mapping/new_grid.geojson\")\n",
    "\n",
    "# Create GeoJSONLayerManager instances for each GeoJSON file\n",
    "# station_layer = GeoJSONLayerManager(\"~/freelance/02_ort_ecmwf/dev/hat/hat/mapping/station.geojson\", \n",
    "#                                     style_callback=lambda feature: attribute_based_style(feature, 'near2new_area_diff', 0, 'red', 'blue'), \n",
    "#                                     name=\"Stations\")\n",
    "# Create circle markers\n",
    "station_layer = create_circle_markers(gdf_station, 'near2new_area_diff', 0, 'red', 'blue', \"Station\")\n",
    "nearest_grid_layer = GeoJSONLayerManager(\"~/freelance/02_ort_ecmwf/dev/hat/hat/mapping/nearest_grid.geojson\", \n",
    "                                         style_callback=lambda feature: vector_style(feature, 'blue', 0.5), \n",
    "                                         name=\"Near Grid\")\n",
    "new_grid_layer = GeoJSONLayerManager(\"~/freelance/02_ort_ecmwf/dev/hat/hat/mapping/new_grid.geojson\", \n",
    "                                     style_callback=lambda feature: vector_style(feature, 'red', 0.5), \n",
    "                                     name=\"New Grid\")\n",
    "line_new_layer = GeoJSONLayerManager(\"~/freelance/02_ort_ecmwf/dev/hat/hat/mapping/station2grid_new_line.geojson\", \n",
    "                                     style_callback=make_style_callback('new_area_diff', cmap, norm), \n",
    "                                     name=\"New Area Difference\")\n"
   ]
  },
  {
   "cell_type": "code",
   "execution_count": 2,
   "metadata": {},
   "outputs": [
    {
     "data": {
      "application/vnd.jupyter.widget-view+json": {
       "model_id": "76f35f0cc6464f8da230e7900cfdb290",
       "version_major": 2,
       "version_minor": 0
      },
      "text/plain": [
       "Map(center=[0, 0], controls=(ZoomControl(options=['position', 'zoom_in_text', 'zoom_in_title', 'zoom_out_text'…"
      ]
     },
     "metadata": {},
     "output_type": "display_data"
    }
   ],
   "source": [
    "# Create an InteractiveMap instance\n",
    "my_map = InteractiveMap()\n",
    "# Add layers to the map\n",
    "my_map.map.add_layer(station_layer)\n",
    "my_map.add_layer(nearest_grid_layer)\n",
    "my_map.add_layer(new_grid_layer)\n",
    "my_map.add_layer(line_new_layer)\n",
    "\n",
    "# Add line click handlers after the layer has been added to the map\n",
    "if line_new_layer.layer:\n",
    "    line_new_layer.layer.on_click(\n",
    "        make_line_click_handler('station_name', 'station_area', \n",
    "                                'near_grid_area', 'new_grid_area', \n",
    "                                'near_distance_km', 'new_distance_km', \n",
    "                                my_map.map))\n",
    "                                \n",
    "\n",
    "# Create the legend widget\n",
    "legend_widget = create_gradient_legend(cmap, -10, 10)\n",
    "colors = [\"red\", \"blue\"]  # Colors used in your polygon styles\n",
    "labels = [\"Moved\", \"Not Moved\"]  # Labels for each color\n",
    "polygon_legend = create_polygon_legend(colors, labels)\n",
    "\n",
    "\n",
    "my_map.map.add_control(WidgetControl(widget=legend_widget, position='bottomright'))\n",
    "my_map.map.add_control(WidgetControl(widget=polygon_legend, position='bottomleft'))\n",
    "\n",
    "# Display the map using IPython's display function\n",
    "display(my_map.map)"
   ]
  },
  {
   "cell_type": "code",
   "execution_count": 3,
   "metadata": {},
   "outputs": [
    {
     "data": {
      "text/plain": [
       "Index(['station_name', 'station_lat', 'station_lon', 'station_area',\n",
       "       'near_grid_lat', 'near_grid_lon', 'near_grid_area', 'near_area_diff',\n",
       "       'near_distance_km', 'new_grid_lat', 'new_grid_lon', 'new_grid_area',\n",
       "       'new_area_diff', 'new_distance_km', 'near2new_area_diff',\n",
       "       'near2new_distance_km', 'near_grid_polygon_wkt', 'new_grid_polygon_wkt',\n",
       "       'geometry'],\n",
       "      dtype='object')"
      ]
     },
     "execution_count": 3,
     "metadata": {},
     "output_type": "execute_result"
    }
   ],
   "source": [
    "gdf_station.keys()"
   ]
  }
 ],
 "metadata": {
  "kernelspec": {
   "display_name": "hat-dev",
   "language": "python",
   "name": "python3"
  },
  "language_info": {
   "codemirror_mode": {
    "name": "ipython",
    "version": 3
   },
   "file_extension": ".py",
   "mimetype": "text/x-python",
   "name": "python",
   "nbconvert_exporter": "python",
   "pygments_lexer": "ipython3",
   "version": "3.10.12"
  }
 },
 "nbformat": 4,
 "nbformat_minor": 2
}
