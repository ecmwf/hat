{
 "cells": [
  {
   "cell_type": "code",
   "execution_count": 1,
   "metadata": {},
   "outputs": [
    {
     "name": "stderr",
     "output_type": "stream",
     "text": [
      "/tmp/ipykernel_247784/4236270453.py:38: MatplotlibDeprecationWarning: The get_cmap function was deprecated in Matplotlib 3.7 and will be removed two minor releases later. Use ``matplotlib.colormaps[name]`` or ``matplotlib.colormaps.get_cmap(obj)`` instead.\n",
      "  cmap = plt.cm.get_cmap('PRGn')\n"
     ]
    }
   ],
   "source": [
    "import geopandas as gpd\n",
    "import numpy as np\n",
    "import matplotlib as mpl\n",
    "import matplotlib.colors as mcolors\n",
    "import matplotlib.pyplot as plt\n",
    "from ipyleaflet import Map, GeoJSON, LayersControl, basemaps, Popup\n",
    "from ipywidgets import Layout\n",
    "import ipywidgets as widgets\n",
    "\n",
    "def create_gradient_legend(cmap, min_val, max_val):\n",
    "    \"\"\"Generates an HTML legend for the colormap with a label.\"\"\"\n",
    "    rgb_values = [mpl.colors.rgb2hex(cmap(i)) for i in np.linspace(0, 1, 256)]\n",
    "    gradient_style = \", \".join(rgb_values)\n",
    "    legend_html = f\"\"\"\n",
    "    <div style=\"text-align: center; font-weight: bold;\">Area Difference (%)</div>\n",
    "    <div style=\"display: flex; flex-direction: column; align-items: center;\">\n",
    "        <div style=\"\n",
    "            background: linear-gradient(to right, {gradient_style});\n",
    "            height: 30px;\n",
    "            width: 200px;\n",
    "            border: 1px solid black;\n",
    "        \"></div>\n",
    "        <div style=\"text-align: center; width: 100%;\">\n",
    "            <span>Low: {min_val:.1f}%</span> | <span>High: {max_val:.1f}%</span>\n",
    "        </div>\n",
    "    </div>\n",
    "    \"\"\"\n",
    "    return widgets.HTML(legend_html)\n",
    "\n",
    "# Read GeoJSON files\n",
    "gdf_line = gpd.read_file(\"~/freelance/02_ort_ecmwf/dev/hat/hat/mapping/station2grid_line.geojson\")\n",
    "gdf_line_new = gpd.read_file(\"~/freelance/02_ort_ecmwf/dev/hat/hat/mapping/station2grid_new_line.geojson\")\n",
    "gdf_station = gpd.read_file(\"~/freelance/02_ort_ecmwf/dev/hat/hat/mapping/station.geojson\")\n",
    "gdf_grid_nearest = gpd.read_file(\"~/freelance/02_ort_ecmwf/dev/hat/hat/mapping/nearest_grid.geojson\")\n",
    "gdf_grid_new = gpd.read_file(\"~/freelance/02_ort_ecmwf/dev/hat/hat/mapping/new_grid.geojson\")\n",
    "\n",
    "# Define a colormap (using Matplotlib)\n",
    "cmap = plt.cm.get_cmap('PRGn')\n",
    "\n",
    "# Normalize the \"area_difference\" column for the color mapping\n",
    "min_val = - 10\n",
    "max_val = 10\n",
    "# min_val = gdf_line['area_difference'].min()\n",
    "# max_val = gdf_line['area_difference'].max()\n",
    "norm = plt.Normalize(vmin=min_val, vmax=max_val)\n",
    "legend_widget = create_gradient_legend(cmap, min_val, max_val)\n",
    "\n",
    "\n",
    "# Function to generate a click handler based on specific attributes\n",
    "def make_line_click_handler(near_area_attr, new_area_attr, distance_attr, map_object):\n",
    "    def line_click_handler(feature, **kwargs):\n",
    "        near_area_diff = feature['properties'].get(near_area_attr, 'N/A')\n",
    "        new_area_diff = feature['properties'].get(new_area_attr, 'N/A')\n",
    "        distance_km = feature['properties'].get(distance_attr, 'N/A')\n",
    "\n",
    "        # Format the popup message\n",
    "        message_html = f\"\"\"\n",
    "        <div>Near Area Difference (%): {near_area_diff:.1f}</div>\n",
    "        <div>New Area Difference (%): {new_area_diff:.1f}</div>\n",
    "        <div>Distance (km): {distance_km:.1f}</div>\n",
    "        \"\"\"\n",
    "        message = widgets.HTML(message_html)\n",
    "\n",
    "        # Extract latitude and longitude for the popup\n",
    "        coords = feature['geometry']['coordinates'][0]\n",
    "        latlng = (coords[1], coords[0])  # Convert to (lat, lon) format\n",
    "        popup = Popup(location=latlng, child=message, close_button=True, auto_close=True, close_on_escape_key=True)\n",
    "        map_object.add_layer(popup)\n",
    "\n",
    "    return line_click_handler\n",
    "\n",
    "\n",
    "def make_style_callback(attribute):\n",
    "    def style_callback(feature):\n",
    "        \"\"\"Style function for the GeoJSON layer based on a given attribute.\"\"\"\n",
    "        area_diff = feature['properties'][attribute]\n",
    "        color = mcolors.to_hex(cmap(norm(area_diff))) if area_diff is not None else \"#ffffff\"\n",
    "        return {'color': color, 'weight': 4}\n",
    "    return style_callback\n",
    "\n",
    "\n",
    "# Common style callback for grid polygons\n",
    "def grid_style(feature, color):\n",
    "    return {\n",
    "        'fillColor': color,   # Fill color\n",
    "        'color': color,       # Border color\n",
    "        'weight': 1,          # Border width\n",
    "        'fillOpacity': 0.5    # Opacity of the fill\n",
    "    }\n",
    "\n",
    "# Style for station points\n",
    "station_style = {\n",
    "    'radius': 5,\n",
    "    'color': 'red',\n",
    "    'fillColor': 'red',\n",
    "    'fillOpacity': 1\n",
    "}\n"
   ]
  },
  {
   "cell_type": "code",
   "execution_count": 2,
   "metadata": {},
   "outputs": [
    {
     "data": {
      "application/vnd.jupyter.widget-view+json": {
       "model_id": "719f6d49d5754e75b8610139bd6e7111",
       "version_major": 2,
       "version_minor": 0
      },
      "text/plain": [
       "VBox(children=(Map(center=[0, 0], controls=(ZoomControl(options=['position', 'zoom_in_text', 'zoom_in_title', …"
      ]
     },
     "metadata": {},
     "output_type": "display_data"
    }
   ],
   "source": [
    "# Create a Map instance\n",
    "m = Map(basemap=basemaps.CartoDB.Positron,center=(0, 0), zoom=2, layout=Layout(height='600px'))\n",
    "\n",
    "# Add GeoJSON layer for stations\n",
    "geojson_station = GeoJSON(\n",
    "    data=gdf_station.__geo_interface__, \n",
    "    point_style=station_style, \n",
    "    name=\"Stations\"\n",
    ")\n",
    "m.add_layer(geojson_station)\n",
    "\n",
    "geojson_grid_nearest = GeoJSON(\n",
    "    data=gdf_grid_nearest.__geo_interface__, \n",
    "    style_callback=lambda feature: grid_style(feature, 'grey'),  # Using lambda to pass the color 'grey'\n",
    "    name=\"Nearest Grid\"\n",
    ")\n",
    "m.add_layer(geojson_grid_nearest)\n",
    "\n",
    "# Add styled GeoJSON layer for new grid polygons\n",
    "geojson_grid_new = GeoJSON(\n",
    "    data=gdf_grid_new.__geo_interface__, \n",
    "    style_callback=lambda feature: grid_style(feature, 'blue'),  # Using lambda to pass the color 'blue'\n",
    "    name=\"New Grid\"\n",
    ")\n",
    "m.add_layer(geojson_grid_new)\n",
    "\n",
    "\n",
    "# Add styled GeoJSON layer for new lines\n",
    "geojson_line_new = GeoJSON(\n",
    "    data=gdf_line_new.__geo_interface__, \n",
    "    style_callback=make_style_callback('new_area_diff'), \n",
    "    name=\"New Area Difference\"\n",
    ")\n",
    "m.add_layer(geojson_line_new)\n",
    "geojson_line_new.on_click(make_line_click_handler('original_area_diff', 'new_area_diff', 'new_distance_km', m))\n",
    "\n",
    "# Add layers control\n",
    "m.add_control(LayersControl())\n",
    "\n",
    "# Display the map and legend in a vertical layout\n",
    "display(widgets.VBox([m, legend_widget]))"
   ]
  },
  {
   "cell_type": "code",
   "execution_count": 3,
   "metadata": {},
   "outputs": [],
   "source": [
    "(gdf_grid_new.to_csv('new_grid.csv', index=False))"
   ]
  },
  {
   "cell_type": "code",
   "execution_count": 19,
   "metadata": {},
   "outputs": [],
   "source": [
    " # Load netCDF data\n",
    "from netCDF4 import Dataset\n",
    "netcdf_file = \"/home/dadiyorto/freelance/02_ort_ecmwf/station_mapping/CAMA_static_network_nc_v2.1/glb_01min/ncdata.nc\"\n",
    "dataset = Dataset(netcdf_file, 'r')\n"
   ]
  },
  {
   "cell_type": "code",
   "execution_count": 20,
   "metadata": {},
   "outputs": [
    {
     "data": {
      "text/plain": [
       "dict_keys(['lat', 'lon', 'lev', 'basin', 'downx', 'downy', 'grdare', 'lonp', 'latp', 'rivlen', 'uparea', 'elevtn', 'lsmask', 'nxtdst', 'rivlen_grid', 'uparea_grid', 'width', 'bsncol', 'ctmare', 'fldhgt', 'nextx', 'nexty', 'nxtdst_grid', 'rivseq', 'upgrid'])"
      ]
     },
     "execution_count": 20,
     "metadata": {},
     "output_type": "execute_result"
    }
   ],
   "source": [
    "dataset.variables.keys()"
   ]
  },
  {
   "cell_type": "code",
   "execution_count": 18,
   "metadata": {},
   "outputs": [
    {
     "data": {
      "text/plain": [
       "<class 'netCDF4._netCDF4.Variable'>\n",
       "int32 upgrid(lat, lon)\n",
       "    _FillValue: -9999\n",
       "    long_name: upstram grid number\n",
       "    standard_name: upstram grid number\n",
       "    units: -\n",
       "unlimited dimensions: \n",
       "current shape = (10800, 21600)\n",
       "filling on"
      ]
     },
     "execution_count": 18,
     "metadata": {},
     "output_type": "execute_result"
    }
   ],
   "source": [
    "dataset.variables['upgrid']"
   ]
  }
 ],
 "metadata": {
  "kernelspec": {
   "display_name": "hat-dev",
   "language": "python",
   "name": "python3"
  },
  "language_info": {
   "codemirror_mode": {
    "name": "ipython",
    "version": 3
   },
   "file_extension": ".py",
   "mimetype": "text/x-python",
   "name": "python",
   "nbconvert_exporter": "python",
   "pygments_lexer": "ipython3",
   "version": "3.10.12"
  }
 },
 "nbformat": 4,
 "nbformat_minor": 2
}
