{
 "cells": [
  {
   "cell_type": "code",
   "execution_count": 6,
   "metadata": {},
   "outputs": [
    {
     "name": "stderr",
     "output_type": "stream",
     "text": [
      "/tmp/ipykernel_30664/3893591872.py:35: MatplotlibDeprecationWarning: The get_cmap function was deprecated in Matplotlib 3.7 and will be removed two minor releases later. Use ``matplotlib.colormaps[name]`` or ``matplotlib.colormaps.get_cmap(obj)`` instead.\n",
      "  cmap = plt.cm.get_cmap('PRGn')\n"
     ]
    },
    {
     "data": {
      "application/vnd.jupyter.widget-view+json": {
       "model_id": "3612287078e34bcd88eaba076571adbd",
       "version_major": 2,
       "version_minor": 0
      },
      "text/plain": [
       "VBox(children=(Map(center=[0, 0], controls=(ZoomControl(options=['position', 'zoom_in_text', 'zoom_in_title', …"
      ]
     },
     "metadata": {},
     "output_type": "display_data"
    }
   ],
   "source": [
    "import geopandas as gpd\n",
    "import numpy as np\n",
    "import matplotlib as mpl\n",
    "import matplotlib.colors as mcolors\n",
    "import matplotlib.pyplot as plt\n",
    "from ipyleaflet import Map, GeoJSON, LayersControl, basemaps\n",
    "from ipywidgets import Layout, VBox, HBox\n",
    "import ipywidgets as widgets\n",
    "\n",
    "def create_gradient_legend(cmap, min_val, max_val):\n",
    "    \"\"\"Generates an HTML legend for the colormap.\"\"\"\n",
    "    rgb_values = [mpl.colors.rgb2hex(cmap(i)) for i in np.linspace(0, 1, 256)]\n",
    "    gradient_style = \", \".join(rgb_values)\n",
    "    legend_html = f\"\"\"\n",
    "<div style=\"display: flex; flex-direction: column; align-items: center;\">\n",
    "    <div style=\"\n",
    "        background: linear-gradient(to right, {gradient_style});\n",
    "        height: 30px;\n",
    "        width: 200px;\n",
    "        border: 1px solid black;\n",
    "    \"></div>\n",
    "    <div style=\"text-align: center; width: 100%;\">\n",
    "        <span>Low: {min_val:.1f}</span> | <span>High: {max_val:.1f}</span>\n",
    "    </div>\n",
    "</div>\n",
    "\"\"\"\n",
    "    return widgets.HTML(legend_html)\n",
    "\n",
    "# Read GeoJSON files\n",
    "gdf_line = gpd.read_file(\"~/freelance/02_ort_ecmwf/dev/hat/hat/mapping/station2grid_line.geojson\")\n",
    "gdf_station = gpd.read_file(\"~/freelance/02_ort_ecmwf/dev/hat/hat/mapping/station.geojson\")\n",
    "gdf_grid = gpd.read_file(\"~/freelance/02_ort_ecmwf/dev/hat/hat/mapping/grid_point.geojson\")\n",
    "\n",
    "# Define a colormap (using Matplotlib)\n",
    "cmap = plt.cm.get_cmap('PRGn')\n",
    "\n",
    "# Normalize the \"area_difference\" column for the color mapping\n",
    "min_val = - 1000\n",
    "max_val = 1000\n",
    "# min_val = gdf_line['area_difference'].min()\n",
    "# max_val = gdf_line['area_difference'].max()\n",
    "norm = plt.Normalize(vmin=min_val, vmax=max_val)\n",
    "legend_widget = create_gradient_legend(cmap, min_val, max_val)\n",
    "\n",
    "def style_callback(feature):\n",
    "    \"\"\"Style function for the GeoJSON layer based on 'area_difference'.\"\"\"\n",
    "    area_diff = feature['properties']['area_difference']\n",
    "    color = mcolors.to_hex(cmap(norm(area_diff))) if area_diff is not None else \"#ffffff\"\n",
    "    return {'color': color, 'weight': 2}\n",
    "\n",
    "# Create a Map instance\n",
    "m = Map(basemap=basemaps.CartoDB.Positron,center=(0, 0), zoom=2, layout=Layout(height='600px'))\n",
    "\n",
    "# Add styled GeoJSON layer for lines\n",
    "geojson_line = GeoJSON(\n",
    "    data=gdf_line.__geo_interface__, \n",
    "    style_callback=style_callback, \n",
    "    name=\"Area Difference\"\n",
    ")\n",
    "m.add_layer(geojson_line)\n",
    "\n",
    "# Style for station points\n",
    "station_style = {\n",
    "    'radius': 5,\n",
    "    'color': 'red',\n",
    "    'fillColor': 'red',\n",
    "    'fillOpacity': 1\n",
    "}\n",
    "\n",
    "# Add GeoJSON layer for stations\n",
    "geojson_station = GeoJSON(\n",
    "    data=gdf_station.__geo_interface__, \n",
    "    point_style=station_style, \n",
    "    name=\"Stations\"\n",
    ")\n",
    "m.add_layer(geojson_station)\n",
    "\n",
    "# Style for station points\n",
    "grid_style = {\n",
    "    'radius': 5,\n",
    "    'color': 'blue',\n",
    "    'fillColor': 'blue',\n",
    "    'fillOpacity': 0\n",
    "}\n",
    "\n",
    "# Add GeoJSON layer for stations\n",
    "geojson_grid = GeoJSON(\n",
    "    data=gdf_grid.__geo_interface__, \n",
    "    point_style=grid_style, \n",
    "    name=\"Grid Points\"\n",
    ")\n",
    "m.add_layer(geojson_grid)\n",
    "\n",
    "\n",
    "# Add layers control\n",
    "m.add_control(LayersControl())\n",
    "\n",
    "# Display the map and legend in a vertical layout\n",
    "display(widgets.VBox([m, legend_widget]))\n"
   ]
  },
  {
   "cell_type": "code",
   "execution_count": null,
   "metadata": {},
   "outputs": [],
   "source": [
    "gdf_line"
   ]
  },
  {
   "cell_type": "code",
   "execution_count": null,
   "metadata": {},
   "outputs": [],
   "source": []
  }
 ],
 "metadata": {
  "kernelspec": {
   "display_name": "hat-dev",
   "language": "python",
   "name": "python3"
  },
  "language_info": {
   "codemirror_mode": {
    "name": "ipython",
    "version": 3
   },
   "file_extension": ".py",
   "mimetype": "text/x-python",
   "name": "python",
   "nbconvert_exporter": "python",
   "pygments_lexer": "ipython3",
   "version": "3.10.12"
  }
 },
 "nbformat": 4,
 "nbformat_minor": 2
}
