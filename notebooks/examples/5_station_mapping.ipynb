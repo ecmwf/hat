{
 "cells": [
  {
   "cell_type": "code",
   "execution_count": null,
   "metadata": {},
   "outputs": [],
   "source": [
    "# Import necessary components from your module\n",
    "from ipyleaflet import WidgetControl, ImageOverlay\n",
    "from hat.mapping.visualisation import GeoJSONLayerManager, InteractiveMap, create_circle_markers, create_gradient_legend, make_line_click_handler, make_style_callback, vector_style, create_polygon_legend\n",
    "import matplotlib.pyplot as plt\n",
    "import geopandas as gpd\n",
    "import xarray as xr\n",
    "import matplotlib.pyplot as plt\n",
    "from io import BytesIO\n",
    "import base64\n",
    "\n",
    "# Define a colormap and normalization (if needed)\n",
    "cmap = plt.cm.get_cmap('PRGn')\n",
    "norm = plt.Normalize(vmin=-10, vmax=10)\n",
    "\n",
    "gdf_station = gpd.read_file(\"~/freelance/02_ort_ecmwf/dev/hat/hat/mapping/station.geojson\")\n",
    "\n",
    "station_layer = create_circle_markers(gdf_station, 'near2new_distance_km', 0, 'blue', 'black', \"Station\")\n",
    "nearest_grid_layer = GeoJSONLayerManager(\"~/freelance/02_ort_ecmwf/dev/hat/hat/mapping/nearest_grid.geojson\", \n",
    "                                         style_callback=lambda feature: vector_style(feature, 'black', 0.5), \n",
    "                                         name=\"Near Grid\")\n",
    "new_grid_layer = GeoJSONLayerManager(\"~/freelance/02_ort_ecmwf/dev/hat/hat/mapping/new_grid.geojson\", \n",
    "                                     style_callback=lambda feature: vector_style(feature, 'blue', 0.5), \n",
    "                                     name=\"New Grid\")\n",
    "line_new_layer = GeoJSONLayerManager(\"~/freelance/02_ort_ecmwf/dev/hat/hat/mapping/station2grid_new_line.geojson\", \n",
    "                                     style_callback=make_style_callback('new_area_diff', cmap, norm), \n",
    "                                     name=\"New Area Difference\")\n",
    "river_overlay = GeoJSONLayerManager(\"riv_seq_europe.geojson\", \n",
    "                                     style_callback=lambda feature: vector_style(feature, 'blue', 0.1), \n",
    "                                     name=\"River Grid\")"
   ]
  },
  {
   "cell_type": "code",
   "execution_count": null,
   "metadata": {},
   "outputs": [],
   "source": [
    "# Create an InteractiveMap instance\n",
    "my_map = InteractiveMap()\n",
    "# Add layers to the map\n",
    "my_map.add_layer(river_overlay)\n",
    "my_map.map.add_layer(station_layer)\n",
    "my_map.add_layer(nearest_grid_layer)\n",
    "my_map.add_layer(new_grid_layer)\n",
    "my_map.add_layer(line_new_layer)\n",
    "\n",
    "# Add line click handlers after the layer has been added to the map\n",
    "if line_new_layer.layer:\n",
    "    line_new_layer.layer.on_click(\n",
    "        make_line_click_handler('station_name', 'station_area', \n",
    "                                'near_grid_area','new_grid_area',\n",
    "                                'near_distance_km', 'new_distance_km', \n",
    "                                my_map.map))\n",
    "                                \n",
    "# Create the legend widget\n",
    "legend_widget = create_gradient_legend(cmap, -10, 10)\n",
    "colors = [\"blue\", \"black\"]  # Colors used in your polygon styles\n",
    "labels = [\"Moved\", \"Not Moved\"]  # Labels for each color\n",
    "polygon_legend = create_polygon_legend(colors, labels)\n",
    "\n",
    "\n",
    "my_map.map.add_control(WidgetControl(widget=legend_widget, position='bottomright'))\n",
    "my_map.map.add_control(WidgetControl(widget=polygon_legend, position='bottomleft'))\n",
    "\n",
    "# Display the map using IPython's display function\n",
    "display(my_map.map)"
   ]
  },
  {
   "cell_type": "code",
   "execution_count": 1,
   "metadata": {},
   "outputs": [
    {
     "name": "stdout",
     "output_type": "stream",
     "text": [
      "Mean Abs. Error (MAE) % between manual_area and new_grid_area: 337.3483295154547%\n",
      "RMSE between manual_area and new_grid_area: 38608.96790225597 km2\n",
      "Count of rows with absolute error % between manual_area and new_grid_area in the range of (1%, 10%): 450 / 1324\n"
     ]
    }
   ],
   "source": [
    "from hat.mapping.evaluation import calculate_mae, calculate_rmse, count_within_abs_error_range\n",
    "import pandas as pd\n",
    "\n",
    "df = pd.read_csv(\"~/freelance/02_ort_ecmwf/dev/hat/hat/mapping/station.csv\")\n",
    "me = calculate_mae(df, 'manual_area', 'new_grid_area')\n",
    "rmse = calculate_rmse(df, 'manual_area', 'new_grid_area')\n",
    "acceptable_count = count_within_abs_error_range(df, 'manual_area', 'new_grid_area', 1 , 10)"
   ]
  },
  {
   "cell_type": "code",
   "execution_count": null,
   "metadata": {},
   "outputs": [],
   "source": [
    "import subprocess\n",
    "import pandas as pd\n",
    "import numpy as np\n",
    "from hat.mapping.evaluation import calculate_rmse, count_within_range, update_config_file\n",
    "\n",
    "config_file_path = \"/home/dadiyorto/freelance/02_ort_ecmwf/dev/hat/hat/mapping/input.json\"\n",
    "\n",
    "# Define your parameter ranges\n",
    "max_cells_range = range(1, 11)  # From 1 to 10\n",
    "max_diff_range = range(2, 21, 2)  # From 2 to 20 with a step of 2\n",
    "\n",
    "# Initialize matrices for RMSE and Acceptable Count\n",
    "rmse_matrix = np.zeros((len(max_cells_range), len(max_diff_range)))\n",
    "count_matrix = np.zeros((len(max_cells_range), len(max_diff_range)))\n",
    "\n",
    "for i, max_cells in enumerate(max_cells_range):\n",
    "    for j, max_diff in enumerate(max_diff_range):\n",
    "        # Update the config file for each combination\n",
    "        update_config_file(config_file_path, max_cells, max_diff)\n",
    "\n",
    "        # Run the script\n",
    "        subprocess.run([\"/home/dadiyorto/freelance/02_ort_ecmwf/dev/hat/hat/mapping/station_mapping.py\", config_file_path], check=True)\n",
    "\n",
    "        # Load the updated CSV file\n",
    "        df = pd.read_csv(\"~/freelance/02_ort_ecmwf/dev/hat/hat/mapping/station.csv\")\n",
    "        \n",
    "        # Perform your evaluations\n",
    "        rmse = calculate_rmse(df, 'new_grid_area', 'manual_area')  # Set print to False in function\n",
    "        acceptable_count = count_within_range(df, 'new_area_diff', 1, 10)  # Set print to False in function\n",
    "\n",
    "        # Store results in the matrices\n",
    "        rmse_matrix[i, j] = rmse\n",
    "        count_matrix[i, j] = acceptable_count\n",
    "\n",
    "# Convert matrices to DataFrame for better readability\n",
    "rmse_df = pd.DataFrame(rmse_matrix, index=max_cells_range, columns=max_diff_range)\n",
    "count_df = pd.DataFrame(count_matrix, index=max_cells_range, columns=max_diff_range)\n",
    "\n"
   ]
  }
 ],
 "metadata": {
  "kernelspec": {
   "display_name": "hat-dev",
   "language": "python",
   "name": "python3"
  },
  "language_info": {
   "codemirror_mode": {
    "name": "ipython",
    "version": 3
   },
   "file_extension": ".py",
   "mimetype": "text/x-python",
   "name": "python",
   "nbconvert_exporter": "python",
   "pygments_lexer": "ipython3",
   "version": "3.10.12"
  }
 },
 "nbformat": 4,
 "nbformat_minor": 2
}
