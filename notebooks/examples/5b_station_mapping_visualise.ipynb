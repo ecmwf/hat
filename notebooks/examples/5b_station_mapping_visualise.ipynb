{
 "cells": [
  {
   "cell_type": "markdown",
   "metadata": {},
   "source": [
    "### Visualise the result of the station mapping\n",
    "1. Import and define mapping output data layers to visualise"
   ]
  },
  {
   "cell_type": "code",
   "execution_count": 1,
   "metadata": {},
   "outputs": [],
   "source": [
    "# Import necessary components from your module\n",
    "from ipyleaflet import WidgetControl\n",
    "from hat.mapping.visualisation import (\n",
    "    GeoJSONLayerManager,\n",
    "    InteractiveMap,\n",
    "    create_gradient_legend,\n",
    "    make_line_click_handler,\n",
    "    make_style_callback,\n",
    "    vector_style,\n",
    "    create_polygon_legend,\n",
    ")\n",
    "from matplotlib import colormaps as cm, pyplot as plt\n",
    "\n",
    "\n",
    "# Define a colormap and normalization for legend of optimum grid area diff (if needed)\n",
    "cmap = cm[\"PRGn\"]\n",
    "vmin, vmax = -10, 10\n",
    "norm = plt.Normalize(vmin=vmin, vmax=vmax)\n",
    "\n",
    "\n",
    "# add various geojson layers\n",
    "station_layer = GeoJSONLayerManager(\n",
    "    \"stations.geojson\",  # geojson file\n",
    "    style_callback=lambda feature: vector_style(feature, \"blue\", 0.5), # style\n",
    "    name=\"Station\", # name for legend\n",
    ")\n",
    "nearest_grid_layer = GeoJSONLayerManager(\n",
    "    \"near_grid.geojson\", # geojson file\n",
    "    style_callback=lambda feature: vector_style(feature, \"black\", 0.5), # style\n",
    "    name=\"Nearest grid\", # name for legend\n",
    ")\n",
    "optimum_grid_layer = GeoJSONLayerManager(\n",
    "    \"optimum_grid.geojson\", # geojson file\n",
    "    style_callback=make_style_callback(\"optimum_area_diff\", cmap, norm), # style\n",
    "    name=\"Optimum grid\", # name for legend\n",
    ")\n",
    "line_optimum_layer = GeoJSONLayerManager(\n",
    "    \"stations2grid_optimum_line.geojson\", # geojson file\n",
    "    style_callback=lambda feature: vector_style(feature, \"black\", opacity=0.8, weight=3), # style\n",
    "    name=\"Station to optimum grid\", # name for legend\n",
    ")\n",
    "river_overlay = GeoJSONLayerManager(\n",
    "    \"riv_seq_europe.geojson\", # geojson file\n",
    "    style_callback=lambda feature: vector_style(feature, \"blue\", 0.1), # style\n",
    "    name=\"River grid\", # name for legend\n",
    ")"
   ]
  },
  {
   "cell_type": "markdown",
   "metadata": {},
   "source": [
    "#### 2. Add and visualise layers in the interactive map"
   ]
  },
  {
   "cell_type": "code",
   "execution_count": 2,
   "metadata": {},
   "outputs": [
    {
     "data": {
      "application/vnd.jupyter.widget-view+json": {
       "model_id": "ddf2f4f6425d4389b6ddef047bc916dc",
       "version_major": 2,
       "version_minor": 0
      },
      "text/plain": [
       "Map(center=[0, 0], controls=(ZoomControl(options=['position', 'zoom_in_text', 'zoom_in_title', 'zoom_out_text'…"
      ]
     },
     "metadata": {},
     "output_type": "display_data"
    }
   ],
   "source": [
    "# Create an InteractiveMap instance\n",
    "my_map = InteractiveMap()\n",
    "\n",
    "# Add layers to the map\n",
    "my_map.add_layer(river_overlay)\n",
    "my_map.add_layer(station_layer)\n",
    "my_map.add_layer(nearest_grid_layer)\n",
    "my_map.add_layer(optimum_grid_layer)\n",
    "my_map.add_layer(line_optimum_layer)\n",
    "\n",
    "# Add line click handlers after the layer has been added to the map\n",
    "if line_optimum_layer.layer:\n",
    "    line_optimum_layer.layer.on_click(\n",
    "        make_line_click_handler(\n",
    "            \"station_name\",\n",
    "            \"station_area\",\n",
    "            \"near_grid_area\",\n",
    "            \"optimum_grid_area\",\n",
    "            \"optimum_distance_cells\",\n",
    "            my_map.map,  # Pass the map object as an argument\n",
    "        )\n",
    "    )\n",
    "\n",
    "# Create the legend widget\n",
    "legend_widget = create_gradient_legend(cmap, vmin, vmax)\n",
    "my_map.map.add_control(WidgetControl(widget=legend_widget, position=\"bottomright\"))\n",
    "\n",
    "# Display the map using IPython's display function\n",
    "display(my_map.map)"
   ]
  }
 ],
 "metadata": {
  "kernelspec": {
   "display_name": "hat-dev",
   "language": "python",
   "name": "python3"
  },
  "language_info": {
   "codemirror_mode": {
    "name": "ipython",
    "version": 3
   },
   "file_extension": ".py",
   "mimetype": "text/x-python",
   "name": "python",
   "nbconvert_exporter": "python",
   "pygments_lexer": "ipython3",
   "version": "3.10.12"
  }
 },
 "nbformat": 4,
 "nbformat_minor": 2
}
