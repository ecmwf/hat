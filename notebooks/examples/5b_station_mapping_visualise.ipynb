{
 "cells": [
  {
   "cell_type": "markdown",
   "metadata": {},
   "source": [
    "### Visualise the result of the station mapping\n",
    "1. Import and define mapping output data layers to visualise"
   ]
  },
  {
   "cell_type": "code",
   "execution_count": 1,
   "metadata": {},
   "outputs": [],
   "source": [
    "# Import necessary components from your module\n",
    "from ipyleaflet import WidgetControl\n",
    "from hat.mapping.visualisation import GeoJSONLayerManager, InteractiveMap, create_circle_markers, create_gradient_legend, make_line_click_handler, make_style_callback, vector_style, create_polygon_legend\n",
    "from matplotlib import colormaps as cm, pyplot as plt\n",
    "import geopandas as gpd\n",
    "\n",
    "folder = \"/home/dadiyorto/freelance/02_ort_ecmwf/dev/hat/hat/mapping/output/\"\n",
    "\n",
    "# Define a colormap and normalization (if needed)\n",
    "cmap = cm['PRGn']\n",
    "norm = plt.Normalize(vmin=-10, vmax=10)\n",
    "\n",
    "gdf_station = gpd.read_file(folder +\"stations.geojson\")\n",
    "\n",
    "station_layer = create_circle_markers(gdf_station, 'near2optimum_distance_km', 0, 'blue', 'black', \"Station\")\n",
    "nearest_grid_layer = GeoJSONLayerManager(folder +\"near_grid.geojson\", \n",
    "                                         style_callback=lambda feature: vector_style(feature, 'black', 0.5), \n",
    "                                         name=\"Near Grid\")\n",
    "optimum_grid_layer = GeoJSONLayerManager(folder +\"optimum_grid.geojson\", \n",
    "                                     style_callback=lambda feature: vector_style(feature, 'blue', 0.5), \n",
    "                                     name=\"New Grid\")\n",
    "\n",
    "line_optimum_layer = GeoJSONLayerManager(folder + \"stations2grid_optimum_line.geojson\", \n",
    "                                     style_callback=make_style_callback('optimum_area_diff', cmap, norm), \n",
    "                                     name=\"New Area Difference\")\n",
    "river_overlay = GeoJSONLayerManager(\"riv_seq_europe.geojson\", \n",
    "                                     style_callback=lambda feature: vector_style(feature, 'blue', 0.1), \n",
    "                                     name=\"River Grid\")"
   ]
  },
  {
   "cell_type": "markdown",
   "metadata": {},
   "source": [
    "#### 2. Add and visualise layers in the interactive map"
   ]
  },
  {
   "cell_type": "code",
   "execution_count": 2,
   "metadata": {},
   "outputs": [
    {
     "data": {
      "application/vnd.jupyter.widget-view+json": {
       "model_id": "074ec5d458af491fbbe71b4919568496",
       "version_major": 2,
       "version_minor": 0
      },
      "text/plain": [
       "Map(center=[0, 0], controls=(ZoomControl(options=['position', 'zoom_in_text', 'zoom_in_title', 'zoom_out_text'…"
      ]
     },
     "metadata": {},
     "output_type": "display_data"
    }
   ],
   "source": [
    "# Create an InteractiveMap instance\n",
    "my_map = InteractiveMap()\n",
    "# Add layers to the map\n",
    "my_map.add_layer(river_overlay)\n",
    "my_map.map.add_layer(station_layer)\n",
    "my_map.add_layer(nearest_grid_layer)\n",
    "my_map.add_layer(optimum_grid_layer)\n",
    "my_map.add_layer(line_optimum_layer)\n",
    "\n",
    "# Add line click handlers after the layer has been added to the map\n",
    "if line_optimum_layer.layer:\n",
    "    line_optimum_layer.layer.on_click(\n",
    "        make_line_click_handler('station_name', 'station_area', \n",
    "                                'near_grid_area','optimum_grid_area',\n",
    "                                'near_distance_km', 'optimum_distance_km', \n",
    "                                my_map.map))\n",
    "                                \n",
    "# Create the legend widget\n",
    "legend_widget = create_gradient_legend(cmap, -10, 10)\n",
    "colors = [\"blue\", \"black\"]  # Colors used in your polygon styles\n",
    "labels = [\"Moved\", \"Not Moved\"]  # Labels for each color\n",
    "polygon_legend = create_polygon_legend(colors, labels)\n",
    "\n",
    "\n",
    "my_map.map.add_control(WidgetControl(widget=legend_widget, position='bottomright'))\n",
    "my_map.map.add_control(WidgetControl(widget=polygon_legend, position='bottomleft'))\n",
    "\n",
    "# Display the map using IPython's display function\n",
    "display(my_map.map)"
   ]
  }
 ],
 "metadata": {
  "kernelspec": {
   "display_name": "hat-dev",
   "language": "python",
   "name": "python3"
  },
  "language_info": {
   "codemirror_mode": {
    "name": "ipython",
    "version": 3
   },
   "file_extension": ".py",
   "mimetype": "text/x-python",
   "name": "python",
   "nbconvert_exporter": "python",
   "pygments_lexer": "ipython3",
   "version": "3.10.12"
  }
 },
 "nbformat": 4,
 "nbformat_minor": 2
}
