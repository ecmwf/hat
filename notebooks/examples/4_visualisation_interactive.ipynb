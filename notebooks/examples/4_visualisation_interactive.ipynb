{
 "cells": [
  {
   "cell_type": "markdown",
   "metadata": {},
   "source": [
    "Import necessart visualisation library"
   ]
  },
  {
   "cell_type": "code",
   "execution_count": 1,
   "metadata": {},
   "outputs": [],
   "source": [
    "import numpy as np\n",
    "from hat.visualisation import display_geospatial, add_vector_to_map"
   ]
  },
  {
   "cell_type": "markdown",
   "metadata": {},
   "source": [
    "Define input (synthetic) and use the tool display geospatial to display the input map and time series"
   ]
  },
  {
   "cell_type": "code",
   "execution_count": 2,
   "metadata": {},
   "outputs": [
    {
     "data": {
      "application/vnd.jupyter.widget-view+json": {
       "model_id": "977a5e9966704aabac22c011a4803702",
       "version_major": 2,
       "version_minor": 0
      },
      "text/plain": [
       "HBox(children=(Map(center=[52.4858, 13.2327], controls=(ZoomControl(options=['position', 'zoom_in_text', 'zoom…"
      ]
     },
     "metadata": {},
     "output_type": "display_data"
    }
   ],
   "source": [
    "stations = {\n",
    "    'Berlin': {'lat': 52.5200, 'lon': 13.4050, 'sims': np.random.rand(10), 'obs': np.random.rand(10), 'other': np.random.rand(10)},\n",
    "    'Potsdam': {'lat': 52.4004, 'lon': 13.0604, 'sims': np.random.rand(10), 'obs': np.random.rand(10), 'other': np.random.rand(10)},\n",
    "    'Falkensee': {'lat': 52.5712, 'lon': 13.1694, 'sims': np.random.rand(10), 'obs': np.random.rand(10), 'other': np.random.rand(10)},\n",
    "}\n",
    "\n",
    "m = display_geospatial(stations)\n"
   ]
  },
  {
   "cell_type": "markdown",
   "metadata": {},
   "source": [
    "Add additional vector data to overlay on the existing map"
   ]
  },
  {
   "cell_type": "code",
   "execution_count": 4,
   "metadata": {},
   "outputs": [],
   "source": [
    "vector_file_path = '/home/dadiyorto/freelance/02_ort_ecmwf/test/map/berliner_bezirke.shp'  # can be .shp, .geojson, or .kml\n",
    "add_vector_to_map(m, vector_file_path, fill_color=\"blue\", line_color=\"red\")"
   ]
  }
 ],
 "metadata": {
  "kernelspec": {
   "display_name": "hat-dev",
   "language": "python",
   "name": "python3"
  },
  "language_info": {
   "codemirror_mode": {
    "name": "ipython",
    "version": 3
   },
   "file_extension": ".py",
   "mimetype": "text/x-python",
   "name": "python",
   "nbconvert_exporter": "python",
   "pygments_lexer": "ipython3",
   "version": "3.10.12"
  },
  "orig_nbformat": 4
 },
 "nbformat": 4,
 "nbformat_minor": 2
}
