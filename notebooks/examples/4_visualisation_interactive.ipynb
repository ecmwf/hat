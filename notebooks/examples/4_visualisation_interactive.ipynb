{
 "cells": [
  {
   "cell_type": "markdown",
   "metadata": {},
   "source": [
    "Import necessart visualisation library"
   ]
  },
  {
   "cell_type": "code",
   "execution_count": null,
   "metadata": {},
   "outputs": [],
   "source": [
    "import numpy as np\n",
    "from hat.visualisation import display_geospatial, add_vector_to_map, display_geospatial_nc"
   ]
  },
  {
   "cell_type": "markdown",
   "metadata": {},
   "source": [
    "Define input (synthetic) and use the tool display geospatial to display the input map and time series"
   ]
  },
  {
   "cell_type": "code",
   "execution_count": null,
   "metadata": {},
   "outputs": [],
   "source": [
    "stations = {\n",
    "    'Berlin': {'lat': 52.5200, 'lon': 13.4050, 'sims': np.random.rand(10), 'obs': np.random.rand(10), 'other': np.random.rand(10)},\n",
    "    'Potsdam': {'lat': 52.4004, 'lon': 13.0604, 'sims': np.random.rand(10), 'obs': np.random.rand(10), 'other': np.random.rand(10)},\n",
    "    'Falkensee': {'lat': 52.5712, 'lon': 13.1694, 'sims': np.random.rand(10), 'obs': np.random.rand(10), 'other': np.random.rand(10)},\n",
    "}\n",
    "\n",
    "m = display_geospatial(stations)\n"
   ]
  },
  {
   "cell_type": "markdown",
   "metadata": {},
   "source": [
    "Add additional vector data to overlay on the existing map"
   ]
  },
  {
   "cell_type": "code",
   "execution_count": null,
   "metadata": {},
   "outputs": [],
   "source": [
    "vector_file_path = '/home/dadiyorto/freelance/02_ort_ecmwf/test/map/berliner_bezirke.shp'  # can be .shp, .geojson, or .kml\n",
    "add_vector_to_map(m, vector_file_path, fill_color=\"blue\", line_color=\"red\")"
   ]
  },
  {
   "cell_type": "code",
   "execution_count": 1,
   "metadata": {},
   "outputs": [],
   "source": [
    "from hat.visualisation import display_geospatial_nc2\n",
    "import xarray as xr\n",
    "simulaton_file = '/home/dadiyorto/freelance/02_ort_ecmwf/test/simulation_datadir/dis_downsized.nc'\n",
    "ds = xr.open_dataset(simulaton_file)"
   ]
  },
  {
   "cell_type": "code",
   "execution_count": 2,
   "metadata": {},
   "outputs": [
    {
     "data": {
      "application/vnd.jupyter.widget-view+json": {
       "model_id": "f5825bd0ef734afb8440dd5488b26825",
       "version_major": 2,
       "version_minor": 0
      },
      "text/plain": [
       "HBox(children=(Map(center=[47.574999999999996, 12.424999999999995], controls=(ZoomControl(options=['position',…"
      ]
     },
     "metadata": {},
     "output_type": "display_data"
    }
   ],
   "source": [
    "# m=display_geospatial_nc(ds, station_meta, obs, colorby = functionname)\n",
    "ds2 = ds.copy()  # create a new dataset that is a copy of ds\n",
    "ds2['dis'] = ds['dis'] * 2  # modify the 'dis' variable in ds2\n",
    "m = display_geospatial_nc2([(\"Dataset 1\", ds), (\"Dataset 2\", ds2)])"
   ]
  },
  {
   "cell_type": "code",
   "execution_count": 3,
   "metadata": {},
   "outputs": [],
   "source": [
    "vector_file_path = '/home/dadiyorto/freelance/02_ort_ecmwf/test/station_metadata/20230222_outlets_elbe.geojson'  # can be .shp, .geojson, or .kml\n",
    "vector_file_path2 = '/home/dadiyorto/freelance/02_ort_ecmwf/test/map/berliner_bezirke.shp'  # can be .shp, .geojson, or .kml\n",
    "m.add_vector_to_map(vector_file_path, fill_color=\"blue\", line_color=\"red\")\n",
    "m.add_vector_to_map(vector_file_path2, fill_color=\"red\", line_color=\"red\")"
   ]
  },
  {
   "cell_type": "code",
   "execution_count": null,
   "metadata": {},
   "outputs": [],
   "source": [
    "ds"
   ]
  },
  {
   "cell_type": "code",
   "execution_count": null,
   "metadata": {},
   "outputs": [],
   "source": []
  }
 ],
 "metadata": {
  "kernelspec": {
   "display_name": "hat-dev",
   "language": "python",
   "name": "python3"
  },
  "language_info": {
   "codemirror_mode": {
    "name": "ipython",
    "version": 3
   },
   "file_extension": ".py",
   "mimetype": "text/x-python",
   "name": "python",
   "nbconvert_exporter": "python",
   "pygments_lexer": "ipython3",
   "version": "3.10.12"
  },
  "orig_nbformat": 4
 },
 "nbformat": 4,
 "nbformat_minor": 2
}
