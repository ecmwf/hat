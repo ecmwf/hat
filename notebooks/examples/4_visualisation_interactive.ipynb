{
 "cells": [
  {
   "cell_type": "markdown",
   "metadata": {},
   "source": [
    "Import necessart visualisation library and define inputs simulation and additional vector to add"
   ]
  },
  {
   "cell_type": "code",
   "execution_count": 1,
   "metadata": {},
   "outputs": [],
   "source": [
    "from hat.visualisation import NotebookMap\n",
    "stations = \"/home/dadiyorto/freelance/02_ort_ecmwf/test/station_metadata/20230222_outlets_elbe_de.csv\"\n",
    "observations = \"/home/dadiyorto/freelance/02_ort_ecmwf/test/observed/Qts_calib_9021.csv\"\n",
    "simulations = {\n",
    "    \"exp1\": \"/home/dadiyorto/freelance/02_ort_ecmwf/test/simulation_datadir/simulation_timeseries.nc\",\n",
    "    \"exp2\": \"/home/dadiyorto/freelance/02_ort_ecmwf/test/simulation_datadir/simulation_timeseries.nc\",\n",
    "}\n",
    "config = {\n",
    "    \"station_epsg\": 4326,\n",
    "    \"station_id_column_name\": \"station_id\",\n",
    "    \"station_filters\":\"\",\n",
    "    \"station_coordinates\": [\"StationLon\", \"StationLat\"]\n",
    "}\n",
    "\n",
    "statistics = ['kge', 'rmse', 'mae', 'correlation']"
   ]
  },
  {
   "cell_type": "markdown",
   "metadata": {},
   "source": [
    "Display map and use the tool to show plot of the simulation time series.\n",
    "Additionally add external vector file to overlay on the existsing map"
   ]
  },
  {
   "cell_type": "code",
   "execution_count": 2,
   "metadata": {},
   "outputs": [
    {
     "name": "stdout",
     "output_type": "stream",
     "text": [
      "station file\n",
      "/home/dadiyorto/freelance/02_ort_ecmwf/test/station_metadata/20230222_outlets_elbe_de.csv\n"
     ]
    }
   ],
   "source": [
    "map = NotebookMap(config, stations, observations, simulations, stats=statistics)"
   ]
  },
  {
   "cell_type": "code",
   "execution_count": 4,
   "metadata": {},
   "outputs": [
    {
     "name": "stdout",
     "output_type": "stream",
     "text": [
      "Station 4 has color #c0df25 based on statistic value 0.5471751158959437\n",
      "Station 5 has color #dfe318 based on statistic value 0.7376279988803034\n",
      "Station 6 has color #d8e219 based on statistic value 0.6792520362572181\n",
      "Station 8 has color #dde318 based on statistic value 0.7224318531801283\n",
      "Station 9 has color #e5e419 based on statistic value 0.7650829122593195\n",
      "Station 10 has color #e5e419 based on statistic value 0.7623623211979086\n",
      "Station 11 has color #e5e419 based on statistic value 0.7626829463154589\n",
      "Station 12 has color #b5de2b based on statistic value 0.4935717934686382\n",
      "Station 13 has color #addc30 based on statistic value 0.45060948119659516\n",
      "Station 14 has color #93d741 based on statistic value 0.3035724795386384\n",
      "Station 15 has color #d8e219 based on statistic value 0.6843228165059871\n",
      "Station 16 has color #c5e021 based on statistic value 0.5872259346281932\n",
      "Station 17 has color #77d153 based on statistic value 0.13784125932391056\n",
      "Station 18 has color #81d34d based on statistic value 0.20402810842358654\n",
      "Station 19 has color #c2df23 based on statistic value 0.5655851330506583\n",
      "Station 69 has color #8bd646 based on statistic value 0.2623725873210412\n",
      "Station 71 has color #e5e419 based on statistic value 0.7651472440380137\n",
      "Station 73 has color #d0e11c based on statistic value 0.6366702886046419\n",
      "Station 74 has color #a0da39 based on statistic value 0.38069355270376415\n",
      "Station 75 has color #e7e419 based on statistic value 0.771766702233077\n",
      "Station 76 has color #e5e419 based on statistic value 0.7649466409284118\n",
      "Station 77 has color #dde318 based on statistic value 0.7148989973551911\n",
      "Station 78 has color #e5e419 based on statistic value 0.7578605067002151\n",
      "Station 79 has color #c2df23 based on statistic value 0.570235775091059\n",
      "Station 80 has color #440154 based on statistic value -2.8771271379605388\n",
      "Station 81 has color #efe51c based on statistic value 0.8122966744760616\n",
      "Station 82 has color #cae11f based on statistic value 0.6059442625222966\n",
      "Station 83 has color #b0dd2f based on statistic value 0.46392177301101967\n",
      "Station 84 has color #d2e21b based on statistic value 0.6492094621376316\n",
      "Station 85 has color #9bd93c based on statistic value 0.3436411308610797\n",
      "Station 86 has color #2cb17e based on statistic value -0.44917530504479264\n",
      "Station 87 has color #1f968b based on statistic value -0.8785537121775633\n",
      "Station 88 has color #dde318 based on statistic value 0.7084648770114568\n",
      "Station 89 has color #7ad151 based on statistic value 0.15948589309326644\n",
      "Station 90 has color #d8e219 based on statistic value 0.681858293809658\n",
      "Station 92 has color #c8e020 based on statistic value 0.5933677848703405\n",
      "Station 93 has color #98d83e based on statistic value 0.3332936321416301\n"
     ]
    },
    {
     "data": {
      "application/vnd.jupyter.widget-view+json": {
       "model_id": "b44ef784b6a142d2b6038fe28fdb0c26",
       "version_major": 2,
       "version_minor": 0
      },
      "text/plain": [
       "VBox(children=(HBox(children=(Map(center=[48.67101241090147, 9.645834728960766], controls=(ZoomControl(options…"
      ]
     },
     "metadata": {},
     "output_type": "display_data"
    },
    {
     "name": "stdout",
     "output_type": "stream",
     "text": [
      "Error encountered: 'Dataset' object has no attribute 'columns'\n"
     ]
    },
    {
     "name": "stdout",
     "output_type": "stream",
     "text": [
      "Error encountered: 'Dataset' object has no attribute 'columns'\n"
     ]
    },
    {
     "name": "stdout",
     "output_type": "stream",
     "text": [
      "Station ID: 121 not found in dataset exp1.\n",
      "Error encountered: 'Dataset' object has no attribute 'columns'\n"
     ]
    }
   ],
   "source": [
    "map.mapplot(colorby='kge', sim='exp1')"
   ]
  },
  {
   "cell_type": "code",
   "execution_count": null,
   "metadata": {},
   "outputs": [],
   "source": [
    "vector_file_path = '/home/dadiyorto/freelance/02_ort_ecmwf/test/map/map.geojson'  # can be .shp, .geojson, or .kml\n",
    "map.overlay_external_vector(vector_file_path)"
   ]
  },
  {
   "cell_type": "code",
   "execution_count": null,
   "metadata": {},
   "outputs": [],
   "source": [
    "map.stations_metadata\n"
   ]
  },
  {
   "cell_type": "code",
   "execution_count": 5,
   "metadata": {},
   "outputs": [
    {
     "ename": "",
     "evalue": "",
     "output_type": "error",
     "traceback": [
      "\u001b[1;31mThe Kernel crashed while executing code in the the current cell or a previous cell. Please review the code in the cell(s) to identify a possible cause of the failure. Click <a href='https://aka.ms/vscodeJupyterKernelCrash'>here</a> for more info. View Jupyter <a href='command:jupyter.viewOutput'>log</a> for further details."
     ]
    }
   ],
   "source": [
    "from hat.visualisation_v2 import NotebookMap as nbm\n",
    "stations= '~/destinE/outlets_v4.0_20230726_withEFAS.csv'\n",
    "observations= '~/destinE/station_attributes_with_obsdis06h_197001-202312_20230726_withEFAS.nc'\n",
    "\n",
    "simulations = {\n",
    "    \"i05j\": \"~/destinE/cama_i05j_stations.nc\",\n",
    "    \"i05h\": \"~/destinE/cama_i05h_stations.nc\"\n",
    "\n",
    "}\n",
    "config = {\n",
    "    \"station_epsg\": 4326,\n",
    "    \"station_id_column_name\": \"station_id\",\n",
    "    \"station_filters\":\"\",\n",
    "    \"station_coordinates\": [\"StationLon\", \"StationLat\"]\n",
    "}\n",
    "\n",
    "statistics = ['kge', 'rmse', 'mae', 'correlation']\n",
    "\n",
    "map = nbm(config, stations, observations, simulations, stats=statistics)\n"
   ]
  },
  {
   "cell_type": "code",
   "execution_count": null,
   "metadata": {},
   "outputs": [],
   "source": [
    "import xarray as xr\n",
    "import pandas as pd\n",
    "\n",
    "# Load the observations dataset\n",
    "obs_ds = xr.open_dataset('~/destinE/station_attributes_with_obsdis06h_197001-202312_20230726_withEFAS.nc')\n",
    "\n",
    "# Load the simulations datasets\n",
    "sim_i05j = xr.open_dataset('~/destinE/cama_i05j_stations.nc')\n",
    "sim_i05h = xr.open_dataset('~/destinE/cama_i05h_stations.nc')\n",
    "\n",
    "print(sim_i05j)\n",
    "\n",
    "\n",
    "\n",
    "\n",
    "\n"
   ]
  },
  {
   "cell_type": "code",
   "execution_count": null,
   "metadata": {},
   "outputs": [],
   "source": [
    "obs_ds\n"
   ]
  },
  {
   "cell_type": "code",
   "execution_count": null,
   "metadata": {},
   "outputs": [],
   "source": [
    "import xarray as xr\n",
    "import os\n",
    "\n",
    "simulations = {\n",
    "    \"i05j\": \"~/destinE/cama_i05j_stations.nc\",\n",
    "    \"i05h\": \"~/destinE/cama_i05h_stations.nc\"\n",
    "}\n",
    "datasets = {}\n",
    "datasets = {}\n",
    "for exp, path in simulations.items():\n",
    "    # Expanding the tilde\n",
    "    expanded_path = os.path.expanduser(path)\n",
    "    \n",
    "    if os.path.isfile(expanded_path):  # Check if it's a file\n",
    "        ds = xr.open_dataset(expanded_path)\n",
    "    elif os.path.isdir(expanded_path):  # Check if it's a directory\n",
    "        # Handle the case when it's a directory; \n",
    "        # assume all .nc files in the directory need to be combined\n",
    "        files = [f for f in os.listdir(expanded_path) if f.endswith('.nc')]\n",
    "        ds = xr.open_mfdataset([os.path.join(expanded_path, f) for f in files], combine='by_coords')\n",
    "    else:\n",
    "        raise ValueError(f\"Invalid path: {expanded_path}\")\n",
    "    datasets[exp] = ds\n"
   ]
  },
  {
   "cell_type": "code",
   "execution_count": null,
   "metadata": {},
   "outputs": [],
   "source": []
  }
 ],
 "metadata": {
  "kernelspec": {
   "display_name": "hat-dev",
   "language": "python",
   "name": "python3"
  },
  "language_info": {
   "codemirror_mode": {
    "name": "ipython",
    "version": 3
   },
   "file_extension": ".py",
   "mimetype": "text/x-python",
   "name": "python",
   "nbconvert_exporter": "python",
   "pygments_lexer": "ipython3",
   "version": "3.10.12"
  },
  "orig_nbformat": 4
 },
 "nbformat": 4,
 "nbformat_minor": 2
}
