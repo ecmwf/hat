{
 "cells": [
  {
   "cell_type": "markdown",
   "metadata": {},
   "source": [
    "Import necessart visualisation library and define inputs simulation and additional vector to add"
   ]
  },
  {
   "cell_type": "code",
   "execution_count": 3,
   "metadata": {
    "tags": []
   },
   "outputs": [],
   "source": [
    "from hat.visualisation import NotebookMap\n",
    "stations = \"/ec/vol/destine-hydro/OBSERVATIONS/outlets_v4.0_20230726_withEFAS.csv\"\n",
    "observations = \"/ec/res4/scratch/macw/hat/destine/observations/destine_observations.nc\"\n",
    "simulations = {\n",
    "    \"i05j\": \"/ec/res4/scratch/macw/hat/destine/i05j/cama_i05j_stations.nc\",\n",
    "    \"i05h\": \"/ec/res4/scratch/macw/hat/destine/i05h/cama_i05h_stations.nc\",\n",
    "}\n",
    "config = {\n",
    "    \"station_epsg\": 4326,\n",
    "    \"station_id_column_name\": \"station_id\",\n",
    "    \"station_filters\":\"station_id == G10162\",\n",
    "    \"station_coordinates\": [\"StationLon\", \"StationLat\"],\n",
    "    \"stats_threshold\": 10\n",
    "}\n",
    "\n",
    "statistics = ['kge', 'rmse', 'mae', 'correlation']"
   ]
  },
  {
   "cell_type": "markdown",
   "metadata": {},
   "source": [
    "Display map and use the tool to show plot of the simulation time series.\n",
    "Additionally add external vector file to overlay on the existsing map"
   ]
  },
  {
   "cell_type": "code",
   "execution_count": 4,
   "metadata": {
    "tags": []
   },
   "outputs": [
    {
     "name": "stdout",
     "output_type": "stream",
     "text": [
      "station file\n",
      "/ec/vol/destine-hydro/OBSERVATIONS/outlets_v4.0_20230726_withEFAS.csv\n",
      "{'i05j': <xarray.Dataset>\n",
      "Dimensions:  (time: 10228, station: 6820)\n",
      "Coordinates:\n",
      "  * time     (time) datetime64[ns] 2016-01-01T06:00:00 ... 2023-01-01\n",
      "  * station  (station) object 'G0001' 'G0002' 'G0003' ... 'G10162' 'G10163'\n",
      "Data variables:\n",
      "    dis      (time, station) float32 ..., 'i05h': <xarray.Dataset>\n",
      "Dimensions:  (time: 10228, station: 6237)\n",
      "Coordinates:\n",
      "  * time     (time) datetime64[ns] 2016-01-01T06:00:00 ... 2023-01-01\n",
      "  * station  (station) object 'G0001' 'G0002' 'G0003' ... 'G10162' 'G10163'\n",
      "Data variables:\n",
      "    dis      (time, station) float32 ...}\n",
      "['G10162']\n",
      "     version__origin__name version__version station_id station_id_num EFAS-ID   \n",
      "6929                GLOFAS               11     G10162          10162    5389  \\\n",
      "\n",
      "     EC_calib5k EC_calib          StationName StationLon  StationLat  ...   \n",
      "6929      -9999        0  Aforo en Formentera  -0.743557  38.0835467  ...  \\\n",
      "\n",
      "     CamaLat1_15min CamaLon1_15min CamaArea_15min   \n",
      "6929         38.125         -0.875        14817.6  \\\n",
      "\n",
      "     EfasCamaVerif_Eccalib_500km2_1year24H   \n",
      "6929                                        \\\n",
      "\n",
      "     EfasCamaVerif_Eccalib_500km2_1year24H_2017+ EfasCamaVerif500km2_1year24H   \n",
      "6929                                                                           \\\n",
      "\n",
      "     EFAS_Duplicate                   geometry         x          y  \n",
      "6929                 POINT (-0.74356 38.08355) -0.743557  38.083547  \n",
      "\n",
      "[1 rows x 115 columns]\n",
      "<xarray.Dataset>\n",
      "Dimensions:  (station: 1, time: 10228)\n",
      "Coordinates:\n",
      "  * station  (station) object 'G10162'\n",
      "  * time     (time) datetime64[ns] 2016-01-01T06:00:00 ... 2023-01-01\n",
      "Data variables:\n",
      "    obsdis   (time, station) float32 ...\n",
      "{'i05j': <xarray.Dataset>\n",
      "Dimensions:  (time: 10228, station: 1)\n",
      "Coordinates:\n",
      "  * time     (time) datetime64[ns] 2016-01-01T06:00:00 ... 2023-01-01\n",
      "  * station  (station) object 'G10162'\n",
      "Data variables:\n",
      "    dis      (time, station) float32 ..., 'i05h': <xarray.Dataset>\n",
      "Dimensions:  (time: 10228, station: 1)\n",
      "Coordinates:\n",
      "  * time     (time) datetime64[ns] 2016-01-01T06:00:00 ... 2023-01-01\n",
      "  * station  (station) object 'G10162'\n",
      "Data variables:\n",
      "    dis      (time, station) float32 ...}\n",
      "['G10162']\n",
      "<xarray.DataArray 'dis' (time: 10228, station: 1)>\n",
      "[10228 values with dtype=float32]\n",
      "Coordinates:\n",
      "  * time     (time) datetime64[ns] 2016-01-01T06:00:00 ... 2023-01-01\n",
      "  * station  (station) object 'G10162'\n",
      "<xarray.DataArray 'obsdis' (time: 10228, station: 1)>\n",
      "array([[nan],\n",
      "       [nan],\n",
      "       [nan],\n",
      "       ...,\n",
      "       [nan],\n",
      "       [nan],\n",
      "       [nan]], dtype=float32)\n",
      "Coordinates:\n",
      "  * station  (station) object 'G10162'\n",
      "  * time     (time) datetime64[ns] 2016-01-01T06:00:00 ... 2023-01-01\n",
      "Attributes:\n",
      "    units:      m3/s\n",
      "    long_name:  observed discharge\n"
     ]
    },
    {
     "ename": "ModuleNotFoundError",
     "evalue": "No module named 'np'",
     "output_type": "error",
     "traceback": [
      "\u001b[0;31m---------------------------------------------------------------------------\u001b[0m",
      "\u001b[0;31mModuleNotFoundError\u001b[0m                       Traceback (most recent call last)",
      "Cell \u001b[0;32mIn[4], line 1\u001b[0m\n\u001b[0;32m----> 1\u001b[0m \u001b[38;5;28mmap\u001b[39m \u001b[38;5;241m=\u001b[39m \u001b[43mNotebookMap\u001b[49m\u001b[43m(\u001b[49m\u001b[43mconfig\u001b[49m\u001b[43m,\u001b[49m\u001b[43m \u001b[49m\u001b[43mstations\u001b[49m\u001b[43m,\u001b[49m\u001b[43m \u001b[49m\u001b[43mobservations\u001b[49m\u001b[43m,\u001b[49m\u001b[43m \u001b[49m\u001b[43msimulations\u001b[49m\u001b[43m,\u001b[49m\u001b[43m \u001b[49m\u001b[43mstats\u001b[49m\u001b[38;5;241;43m=\u001b[39;49m\u001b[43mstatistics\u001b[49m\u001b[43m)\u001b[49m\n",
      "File \u001b[0;32m/etc/ecmwf/nfs/dh1_home_a/macw/git/hat/hat/visualisation.py:126\u001b[0m, in \u001b[0;36mNotebookMap.__init__\u001b[0;34m(self, config, stations_metadata, observations, simulations, stats)\u001b[0m\n\u001b[1;32m    124\u001b[0m \u001b[38;5;28mself\u001b[39m\u001b[38;5;241m.\u001b[39mstatistics \u001b[38;5;241m=\u001b[39m \u001b[38;5;28;01mNone\u001b[39;00m\n\u001b[1;32m    125\u001b[0m \u001b[38;5;28;01mif\u001b[39;00m \u001b[38;5;28mself\u001b[39m\u001b[38;5;241m.\u001b[39mstats:\n\u001b[0;32m--> 126\u001b[0m     \u001b[38;5;28mself\u001b[39m\u001b[38;5;241m.\u001b[39mstatistics \u001b[38;5;241m=\u001b[39m \u001b[38;5;28;43mself\u001b[39;49m\u001b[38;5;241;43m.\u001b[39;49m\u001b[43mcalculate_statistics\u001b[49m\u001b[43m(\u001b[49m\u001b[43m)\u001b[49m\n\u001b[1;32m    127\u001b[0m \u001b[38;5;28mself\u001b[39m\u001b[38;5;241m.\u001b[39mstatistics_output \u001b[38;5;241m=\u001b[39m Output()\n",
      "File \u001b[0;32m/etc/ecmwf/nfs/dh1_home_a/macw/git/hat/hat/visualisation.py:206\u001b[0m, in \u001b[0;36mNotebookMap.calculate_statistics\u001b[0;34m(self)\u001b[0m\n\u001b[1;32m    204\u001b[0m \u001b[38;5;66;03m# Dictionary of simulation datasets\u001b[39;00m\n\u001b[1;32m    205\u001b[0m \u001b[38;5;28;01mfor\u001b[39;00m exp, ds \u001b[38;5;129;01min\u001b[39;00m \u001b[38;5;28mself\u001b[39m\u001b[38;5;241m.\u001b[39msim_ds\u001b[38;5;241m.\u001b[39mitems():\n\u001b[0;32m--> 206\u001b[0m     sim_ds_f, obs_ds_f \u001b[38;5;241m=\u001b[39m \u001b[43mfilter_timeseries\u001b[49m\u001b[43m(\u001b[49m\u001b[43mds\u001b[49m\u001b[38;5;241;43m.\u001b[39;49m\u001b[43mdis\u001b[49m\u001b[43m,\u001b[49m\u001b[43m \u001b[49m\u001b[38;5;28;43mself\u001b[39;49m\u001b[38;5;241;43m.\u001b[39;49m\u001b[43mobs_ds\u001b[49m\u001b[43m,\u001b[49m\u001b[43m \u001b[49m\u001b[38;5;28;43mself\u001b[39;49m\u001b[38;5;241;43m.\u001b[39;49m\u001b[43mthreshold\u001b[49m\u001b[43m)\u001b[49m\n\u001b[1;32m    207\u001b[0m     statistics[exp] \u001b[38;5;241m=\u001b[39m run_analysis(\u001b[38;5;28mself\u001b[39m\u001b[38;5;241m.\u001b[39mstats, sim_ds_f, obs_ds_f)\n\u001b[1;32m    208\u001b[0m \u001b[38;5;28;01mreturn\u001b[39;00m statistics\n",
      "File \u001b[0;32m/etc/ecmwf/nfs/dh1_home_a/macw/git/hat/hat/filters.py:175\u001b[0m, in \u001b[0;36mfilter_timeseries\u001b[0;34m(sims_ds, obs_ds, threshold)\u001b[0m\n\u001b[1;32m    173\u001b[0m \u001b[38;5;28mprint\u001b[39m(sims_ds)\n\u001b[1;32m    174\u001b[0m \u001b[38;5;28mprint\u001b[39m(dis)\n\u001b[0;32m--> 175\u001b[0m \u001b[38;5;28;01mimport\u001b[39;00m \u001b[38;5;21;01mnp\u001b[39;00m\n\u001b[1;32m    176\u001b[0m \u001b[38;5;28mprint\u001b[39m(dis\u001b[38;5;241m.\u001b[39mvalues[np\u001b[38;5;241m.\u001b[39misfinite(dis\u001b[38;5;241m.\u001b[39mvalues)])\n\u001b[1;32m    178\u001b[0m \u001b[38;5;66;03m# Replace negative values with NaN\u001b[39;00m\n",
      "\u001b[0;31mModuleNotFoundError\u001b[0m: No module named 'np'"
     ]
    }
   ],
   "source": [
    "map = NotebookMap(config, stations, observations, simulations, stats=statistics)"
   ]
  },
  {
   "cell_type": "code",
   "execution_count": 2,
   "metadata": {
    "tags": []
   },
   "outputs": [
    {
     "ename": "AttributeError",
     "evalue": "type object 'map' has no attribute 'mapplot'",
     "output_type": "error",
     "traceback": [
      "\u001b[0;31m---------------------------------------------------------------------------\u001b[0m",
      "\u001b[0;31mAttributeError\u001b[0m                            Traceback (most recent call last)",
      "Cell \u001b[0;32mIn[2], line 1\u001b[0m\n\u001b[0;32m----> 1\u001b[0m \u001b[38;5;28;43mmap\u001b[39;49m\u001b[38;5;241;43m.\u001b[39;49m\u001b[43mmapplot\u001b[49m(colorby\u001b[38;5;241m=\u001b[39m\u001b[38;5;124m'\u001b[39m\u001b[38;5;124mkge\u001b[39m\u001b[38;5;124m'\u001b[39m, sim\u001b[38;5;241m=\u001b[39m\u001b[38;5;124m'\u001b[39m\u001b[38;5;124mi05j\u001b[39m\u001b[38;5;124m'\u001b[39m)\n",
      "\u001b[0;31mAttributeError\u001b[0m: type object 'map' has no attribute 'mapplot'"
     ]
    }
   ],
   "source": [
    "map.mapplot(colorby='kge', sim='i05j')"
   ]
  },
  {
   "cell_type": "code",
   "execution_count": null,
   "metadata": {},
   "outputs": [],
   "source": [
    "vector_file_path = '/home/dadiyorto/freelance/02_ort_ecmwf/test/map/map.geojson'  # can be .shp, .geojson, or .kml\n",
    "map.overlay_external_vector(vector_file_path)"
   ]
  },
  {
   "cell_type": "code",
   "execution_count": null,
   "metadata": {},
   "outputs": [],
   "source": [
    "map.stations_metadata\n"
   ]
  },
  {
   "cell_type": "code",
   "execution_count": 5,
   "metadata": {},
   "outputs": [
    {
     "ename": "",
     "evalue": "",
     "output_type": "error",
     "traceback": [
      "\u001b[1;31mThe Kernel crashed while executing code in the the current cell or a previous cell. Please review the code in the cell(s) to identify a possible cause of the failure. Click <a href='https://aka.ms/vscodeJupyterKernelCrash'>here</a> for more info. View Jupyter <a href='command:jupyter.viewOutput'>log</a> for further details."
     ]
    }
   ],
   "source": [
    "from hat.visualisation_v2 import NotebookMap as nbm\n",
    "stations= '~/destinE/outlets_v4.0_20230726_withEFAS.csv'\n",
    "observations= '~/destinE/station_attributes_with_obsdis06h_197001-202312_20230726_withEFAS.nc'\n",
    "\n",
    "simulations = {\n",
    "    \"i05j\": \"~/destinE/cama_i05j_stations.nc\",\n",
    "    \"i05h\": \"~/destinE/cama_i05h_stations.nc\"\n",
    "\n",
    "}\n",
    "config = {\n",
    "    \"station_epsg\": 4326,\n",
    "    \"station_id_column_name\": \"station_id\",\n",
    "    \"station_filters\":\"\",\n",
    "    \"station_coordinates\": [\"StationLon\", \"StationLat\"]\n",
    "}\n",
    "\n",
    "statistics = ['kge', 'rmse', 'mae', 'correlation']\n",
    "\n",
    "map = nbm(config, stations, observations, simulations, stats=statistics)\n"
   ]
  },
  {
   "cell_type": "code",
   "execution_count": null,
   "metadata": {},
   "outputs": [],
   "source": [
    "import xarray as xr\n",
    "import pandas as pd\n",
    "\n",
    "# Load the observations dataset\n",
    "obs_ds = xr.open_dataset('~/destinE/station_attributes_with_obsdis06h_197001-202312_20230726_withEFAS.nc')\n",
    "\n",
    "# Load the simulations datasets\n",
    "sim_i05j = xr.open_dataset('~/destinE/cama_i05j_stations.nc')\n",
    "sim_i05h = xr.open_dataset('~/destinE/cama_i05h_stations.nc')\n",
    "\n",
    "print(sim_i05j)\n",
    "\n",
    "\n",
    "\n",
    "\n",
    "\n"
   ]
  },
  {
   "cell_type": "code",
   "execution_count": null,
   "metadata": {},
   "outputs": [],
   "source": [
    "obs_ds\n"
   ]
  },
  {
   "cell_type": "code",
   "execution_count": null,
   "metadata": {},
   "outputs": [],
   "source": [
    "import xarray as xr\n",
    "import os\n",
    "\n",
    "simulations = {\n",
    "    \"i05j\": \"~/destinE/cama_i05j_stations.nc\",\n",
    "    \"i05h\": \"~/destinE/cama_i05h_stations.nc\"\n",
    "}\n",
    "datasets = {}\n",
    "datasets = {}\n",
    "for exp, path in simulations.items():\n",
    "    # Expanding the tilde\n",
    "    expanded_path = os.path.expanduser(path)\n",
    "    \n",
    "    if os.path.isfile(expanded_path):  # Check if it's a file\n",
    "        ds = xr.open_dataset(expanded_path)\n",
    "    elif os.path.isdir(expanded_path):  # Check if it's a directory\n",
    "        # Handle the case when it's a directory; \n",
    "        # assume all .nc files in the directory need to be combined\n",
    "        files = [f for f in os.listdir(expanded_path) if f.endswith('.nc')]\n",
    "        ds = xr.open_mfdataset([os.path.join(expanded_path, f) for f in files], combine='by_coords')\n",
    "    else:\n",
    "        raise ValueError(f\"Invalid path: {expanded_path}\")\n",
    "    datasets[exp] = ds\n"
   ]
  },
  {
   "cell_type": "code",
   "execution_count": null,
   "metadata": {},
   "outputs": [],
   "source": []
  }
 ],
 "metadata": {
  "kernelspec": {
   "display_name": "conda_hat",
   "language": "python",
   "name": "conda_hat"
  },
  "language_info": {
   "codemirror_mode": {
    "name": "ipython",
    "version": 3
   },
   "file_extension": ".py",
   "mimetype": "text/x-python",
   "name": "python",
   "nbconvert_exporter": "python",
   "pygments_lexer": "ipython3",
   "version": "3.10.11"
  }
 },
 "nbformat": 4,
 "nbformat_minor": 4
}
