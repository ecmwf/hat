{
 "cells": [
  {
   "cell_type": "markdown",
   "metadata": {},
   "source": [
    "Import necessart visualisation library and define inputs simulation and additional vector to add"
   ]
  },
  {
   "cell_type": "code",
   "execution_count": null,
   "metadata": {},
   "outputs": [],
   "source": [
    "from hat.visualisation import NotebookMap\n",
    "stations = \"~/git/hat/data/outlets_v4.0_20230726_withEFAS.csv\"\n",
    "observations = \"~/git/hat/data/observations/destine_observations.nc\"\n",
    "simulations = {\n",
    "    \"i05j\": \"~/git/hat/data/cama_i05j_stations.nc\",\n",
    "    \"i05h\": \"~/git/hat/data/cama_i05h_stations.nc\",\n",
    "}\n",
    "statistics = {\n",
    "    \"i05j\": \"~/git/hat/data/observations/statistics_i05j.nc\",\n",
    "    \"i05h\": \"~/git/hat/data/observations/statistics_i05h.nc\",\n",
    "}\n",
    "config = {\n",
    "    \"station_epsg\": 4326,\n",
    "    \"station_id_column_name\": \"station_id\",\n",
    "    \"station_filters\":\"\",\n",
    "    \"station_coordinates\": [\"StationLon\", \"StationLat\"],\n",
    "}\n"
   ]
  },
  {
   "cell_type": "markdown",
   "metadata": {},
   "source": [
    "Display map and use the tool to show plot of the simulation time series.\n",
    "Additionally add external vector file to overlay on the existsing map"
   ]
  },
  {
   "cell_type": "code",
   "execution_count": null,
   "metadata": {},
   "outputs": [],
   "source": [
    "map = NotebookMap(config, stations, observations, simulations, stats=statistics)"
   ]
  },
  {
   "cell_type": "code",
   "execution_count": null,
   "metadata": {},
   "outputs": [],
   "source": [
    "map.mapplot(colorby='kge', sim='i05j')"
   ]
  },
  {
   "cell_type": "code",
   "execution_count": null,
   "metadata": {},
   "outputs": [],
   "source": [
    "\n",
    "df_stats = map.generate_statistics_table(\"G6267\")\n",
    "map.display_dataframe_with_scroll(df_stats, title=\"Statistics Overview\")"
   ]
  },
  {
   "cell_type": "code",
   "execution_count": null,
   "metadata": {},
   "outputs": [],
   "source": [
    "map.generate_statistics_table('G1253')"
   ]
  },
  {
   "cell_type": "code",
   "execution_count": null,
   "metadata": {},
   "outputs": [],
   "source": []
  },
  {
   "cell_type": "code",
   "execution_count": null,
   "metadata": {},
   "outputs": [],
   "source": [
    "vector_file_path = '/home/dadiyorto/freelance/02_ort_ecmwf/test/map/map.geojson'  # can be .shp, .geojson, or .kml\n",
    "map.overlay_external_vector(vector_file_path)"
   ]
  },
  {
   "cell_type": "code",
   "execution_count": null,
   "metadata": {},
   "outputs": [],
   "source": [
    "map.stations_metadata\n"
   ]
  },
  {
   "cell_type": "code",
   "execution_count": null,
   "metadata": {},
   "outputs": [],
   "source": [
    "from hat.visualisation_v2 import NotebookMap as nbm\n",
    "stations= '~/destinE/outlets_v4.0_20230726_withEFAS.csv'\n",
    "observations= '~/destinE/station_attributes_with_obsdis06h_197001-202312_20230726_withEFAS.nc'\n",
    "\n",
    "simulations = {\n",
    "    \"i05j\": \"~/destinE/cama_i05j_stations.nc\",\n",
    "    \"i05h\": \"~/destinE/cama_i05h_stations.nc\"\n",
    "\n",
    "}\n",
    "config = {\n",
    "    \"station_epsg\": 4326,\n",
    "    \"station_id_column_name\": \"station_id\",\n",
    "    \"station_filters\":\"\",\n",
    "    \"station_coordinates\": [\"StationLon\", \"StationLat\"]\n",
    "}\n",
    "\n",
    "statistics = ['kge', 'rmse', 'mae', 'correlation']\n",
    "\n",
    "map = nbm(config, stations, observations, simulations, stats=statistics)\n"
   ]
  },
  {
   "cell_type": "code",
   "execution_count": null,
   "metadata": {},
   "outputs": [],
   "source": [
    "import xarray as xr\n",
    "import pandas as pd\n",
    "\n",
    "# Load the observations dataset\n",
    "obs_ds = xr.open_dataset('~/destinE/station_attributes_with_obsdis06h_197001-202312_20230726_withEFAS.nc')\n",
    "\n",
    "# Load the simulations datasets\n",
    "sim_i05j = xr.open_dataset('~/destinE/cama_i05j_stations.nc')\n",
    "sim_i05h = xr.open_dataset('~/destinE/cama_i05h_stations.nc')\n",
    "\n",
    "print(sim_i05j)\n",
    "\n",
    "\n",
    "\n",
    "\n",
    "\n"
   ]
  },
  {
   "cell_type": "code",
   "execution_count": null,
   "metadata": {},
   "outputs": [],
   "source": [
    "obs_ds\n"
   ]
  },
  {
   "cell_type": "code",
   "execution_count": null,
   "metadata": {},
   "outputs": [],
   "source": [
    "import xarray as xr\n",
    "import os\n",
    "\n",
    "simulations = {\n",
    "    \"i05j\": \"~/destinE/cama_i05j_stations.nc\",\n",
    "    \"i05h\": \"~/destinE/cama_i05h_stations.nc\"\n",
    "}\n",
    "datasets = {}\n",
    "datasets = {}\n",
    "for exp, path in simulations.items():\n",
    "    # Expanding the tilde\n",
    "    expanded_path = os.path.expanduser(path)\n",
    "    \n",
    "    if os.path.isfile(expanded_path):  # Check if it's a file\n",
    "        ds = xr.open_dataset(expanded_path)\n",
    "    elif os.path.isdir(expanded_path):  # Check if it's a directory\n",
    "        # Handle the case when it's a directory; \n",
    "        # assume all .nc files in the directory need to be combined\n",
    "        files = [f for f in os.listdir(expanded_path) if f.endswith('.nc')]\n",
    "        ds = xr.open_mfdataset([os.path.join(expanded_path, f) for f in files], combine='by_coords')\n",
    "    else:\n",
    "        raise ValueError(f\"Invalid path: {expanded_path}\")\n",
    "    datasets[exp] = ds\n"
   ]
  },
  {
   "cell_type": "code",
   "execution_count": null,
   "metadata": {},
   "outputs": [],
   "source": []
  }
 ],
 "metadata": {
  "language_info": {
   "name": "python"
  }
 },
 "nbformat": 4,
 "nbformat_minor": 4
}
