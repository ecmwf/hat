{
 "cells": [
  {
   "cell_type": "markdown",
   "metadata": {},
   "source": [
    "Import necessart visualisation library and define inputs simulation and additional vector to add"
   ]
  },
  {
   "cell_type": "code",
   "execution_count": null,
   "metadata": {},
   "outputs": [],
   "source": [
    "config = {\n",
    "    \"stations\": \"~/git/hat/data/outlets_v4.0_20230726_withEFAS.csv\",\n",
    "    \"observations\": \"~/git/hat/data/observations/destine_observations.nc\",\n",
    "    \"simulations\": {\n",
    "        \"i05j\": \"~/git/hat/data/cama_i05j_stations.nc\",\n",
    "        \"i05h\": \"~/git/hat/data/cama_i05h_stations.nc\",\n",
    "    },\n",
    "    \"statistics\": {\n",
    "        \"i05j\": \"~/git/hat/data/observations/statistics_i05j.nc\",\n",
    "        \"i05h\": \"~/git/hat/data/observations/statistics_i05h.nc\",\n",
    "    },\n",
    "    \"station_epsg\": 4326,\n",
    "    \"station_id_column_name\": \"station_id\",\n",
    "    \"station_filters\":\"\",\n",
    "    \"station_coordinates\": [\"StationLon\", \"StationLat\"],\n",
    "    \"obs_var_name\": \"obsdis\",\n",
    "    \"sims_var_name\": \"dis\",\n",
    "}\n"
   ]
  },
  {
   "cell_type": "markdown",
   "metadata": {},
   "source": [
    "Initialise the map object from the configuration."
   ]
  },
  {
   "cell_type": "code",
   "execution_count": null,
   "metadata": {},
   "outputs": [],
   "source": [
    "from hat.interactive.explorers import TimeSeriesExplorer\n",
    "map = TimeSeriesExplorer(config)"
   ]
  },
  {
   "cell_type": "markdown",
   "metadata": {},
   "source": [
    "Display map and use the tool to show plot of the simulation time series."
   ]
  },
  {
   "cell_type": "code",
   "execution_count": null,
   "metadata": {},
   "outputs": [],
   "source": [
    "map.mapplot(colorby='kge', sim='i05j')"
   ]
  },
  {
   "cell_type": "code",
   "execution_count": null,
   "metadata": {},
   "outputs": [],
   "source": []
  }
 ],
 "metadata": {
  "kernelspec": {
   "display_name": "hat-venv",
   "language": "python",
   "name": "hat-venv"
  },
  "language_info": {
   "codemirror_mode": {
    "name": "ipython",
    "version": 3
   },
   "file_extension": ".py",
   "mimetype": "text/x-python",
   "name": "python",
   "nbconvert_exporter": "python",
   "pygments_lexer": "ipython3",
   "version": "3.10.10"
  }
 },
 "nbformat": 4,
 "nbformat_minor": 4
}
