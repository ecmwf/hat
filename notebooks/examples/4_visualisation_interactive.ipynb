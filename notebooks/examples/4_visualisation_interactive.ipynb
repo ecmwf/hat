{
 "cells": [
  {
   "cell_type": "markdown",
   "metadata": {},
   "source": [
    "Import necessart visualisation library and define inputs simulation and additional vector to add"
   ]
  },
  {
   "cell_type": "code",
   "execution_count": null,
   "metadata": {},
   "outputs": [],
   "source": [
    "from hat.visualisation import display_geospatial_nc_stations\n",
    "import xarray as xr\n",
    "\n",
    "simulaton_file = '/home/dadiyorto/freelance/02_ort_ecmwf/test/simulation_datadir/simulation_timeseries.nc'\n",
    "ds = xr.open_dataset(simulaton_file)\n",
    "\n",
    "vector_file_path = '/home/dadiyorto/freelance/02_ort_ecmwf/test/map/map.geojson'  # can be .shp, .geojson, or .kml\n",
    "observation_file = \"/home/dadiyorto/freelance/02_ort_ecmwf/test/observed/Qts_calib_9021.csv\""
   ]
  },
  {
   "cell_type": "markdown",
   "metadata": {},
   "source": [
    "Display map and use the tool to show plot of the simulation time series.\n",
    "Additionally add external vector file to overlay on the existsing map"
   ]
  },
  {
   "cell_type": "code",
   "execution_count": null,
   "metadata": {},
   "outputs": [],
   "source": [
    "m = display_geospatial_nc_stations(ds)\n",
    "m.add_vector_to_map(vector_file_path)"
   ]
  },
  {
   "cell_type": "code",
   "execution_count": null,
   "metadata": {},
   "outputs": [],
   "source": [
    "ds"
   ]
  }
 ],
 "metadata": {
  "kernelspec": {
   "display_name": "hat-dev",
   "language": "python",
   "name": "python3"
  },
  "language_info": {
   "codemirror_mode": {
    "name": "ipython",
    "version": 3
   },
   "file_extension": ".py",
   "mimetype": "text/x-python",
   "name": "python",
   "nbconvert_exporter": "python",
   "pygments_lexer": "ipython3",
   "version": "3.10.12"
  },
  "orig_nbformat": 4
 },
 "nbformat": 4,
 "nbformat_minor": 2
}
