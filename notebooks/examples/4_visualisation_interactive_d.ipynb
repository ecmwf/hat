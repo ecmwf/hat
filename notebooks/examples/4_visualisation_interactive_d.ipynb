{
 "cells": [
  {
   "cell_type": "markdown",
   "metadata": {},
   "source": [
    "1. Import necessart visualisation library and define inputs simulation and additional vector to add"
   ]
  },
  {
   "cell_type": "code",
   "execution_count": 1,
   "metadata": {},
   "outputs": [],
   "source": [
    "from hat.visualisation import NotebookMap\n",
    "\n",
    "stations= '~/destinE/outlets_v4.0_20230726_withEFAS.csv'\n",
    "observations= '~/destinE/destine_observation.nc'\n",
    "\n",
    "simulations = {\n",
    "    \"i05j\": \"~/destinE/cama_i05j_stations.nc\",\n",
    "    \"i05h\": \"~/destinE/cama_i05h_stations.nc\"\n",
    "}\n",
    "\n",
    "config = {\n",
    "    \"station_epsg\": 4326,\n",
    "    \"station_id_column_name\": \"station_id\",\n",
    "    \"station_filters\":\"station_id_num <= 5000\",\n",
    "    \"station_coordinates\": [\"StationLon\", \"StationLat\"],\n",
    "    \"obs_var_name\": \"obsdis\",\n",
    "    \"sim_var_name\": \"dis\"\n",
    "}\n",
    "\n",
    "statistics = {\n",
    "    \"i05j\": \"~/destinE/statistics_i05j.nc\",\n",
    "    \"i05h\": \"~/destinE/statistics_i05h.nc\"\n",
    "}"
   ]
  },
  {
   "cell_type": "markdown",
   "metadata": {},
   "source": [
    "2. Initialise & processing all the input data into the map object"
   ]
  },
  {
   "cell_type": "code",
   "execution_count": 2,
   "metadata": {},
   "outputs": [
    {
     "name": "stdout",
     "output_type": "stream",
     "text": [
      "Found 49 common stations\n"
     ]
    }
   ],
   "source": [
    "map = NotebookMap(config, stations, observations, simulations, stats=statistics)"
   ]
  },
  {
   "cell_type": "markdown",
   "metadata": {},
   "source": [
    "3. Display map interface for interactive viewing"
   ]
  },
  {
   "cell_type": "code",
   "execution_count": 3,
   "metadata": {},
   "outputs": [
    {
     "name": "stdout",
     "output_type": "stream",
     "text": [
      "Initialising plotly\n"
     ]
    },
    {
     "data": {
      "application/vnd.jupyter.widget-view+json": {
       "model_id": "152c7bedde3f4f0db087535b1eb1838d",
       "version_major": 2,
       "version_minor": 0
      },
      "text/plain": [
       "VBox(children=(Label(value='Interactive Map Visualisation for Hydrological Model Performance', layout=Layout(j…"
      ]
     },
     "metadata": {},
     "output_type": "display_data"
    }
   ],
   "source": [
    "map.mapplot(colorby='kge', sim='i05h', range=[-1, 1])"
   ]
  },
  {
   "cell_type": "code",
   "execution_count": 4,
   "metadata": {},
   "outputs": [
    {
     "data": {
      "text/plain": [
       "38.13340834"
      ]
     },
     "execution_count": 4,
     "metadata": {},
     "output_type": "execute_result"
    }
   ],
   "source": [
    "map.bounds[0][0]\n"
   ]
  }
 ],
 "metadata": {
  "kernelspec": {
   "display_name": "hat-dev",
   "language": "python",
   "name": "python3"
  },
  "language_info": {
   "codemirror_mode": {
    "name": "ipython",
    "version": 3
   },
   "file_extension": ".py",
   "mimetype": "text/x-python",
   "name": "python",
   "nbconvert_exporter": "python",
   "pygments_lexer": "ipython3",
   "version": "3.10.12"
  },
  "orig_nbformat": 4
 },
 "nbformat": 4,
 "nbformat_minor": 2
}
