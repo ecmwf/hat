{
 "cells": [
  {
   "cell_type": "markdown",
   "metadata": {},
   "source": [
    "Import necessart visualisation library and define inputs simulation and additional vector to add"
   ]
  },
  {
   "cell_type": "markdown",
   "metadata": {},
   "source": [
    "Display map and use the tool to show plot of the simulation time series.\n",
    "Additionally add external vector file to overlay on the existsing map"
   ]
  },
  {
   "cell_type": "code",
   "execution_count": 1,
   "metadata": {},
   "outputs": [
    {
     "name": "stdout",
     "output_type": "stream",
     "text": [
      "Found 49 common stations\n"
     ]
    }
   ],
   "source": [
    "from hat.visualisation import NotebookMap\n",
    "stations= '~/destinE/outlets_v4.0_20230726_withEFAS.csv'\n",
    "observations= '~/destinE/destine_observation.nc'\n",
    "\n",
    "simulations = {\n",
    "    \"i05j\": \"~/destinE/cama_i05j_stations.nc\",\n",
    "    \"i05h\": \"~/destinE/cama_i05h_stations.nc\"\n",
    "}\n",
    "\n",
    "config = {\n",
    "    \"station_epsg\": 4326,\n",
    "    \"station_id_column_name\": \"station_id\",\n",
    "    \"station_filters\":\"station_id_num <= 5000\",\n",
    "    \"station_coordinates\": [\"StationLon\", \"StationLat\"],\n",
    "    \"obs_var_name\": \"obsdis\",\n",
    "    \"sim_var_name\": \"dis\"\n",
    "\n",
    "}\n",
    "\n",
    "statistics = {\n",
    "    \"i05j\": \"~/destinE/statistics_i05j.nc\",\n",
    "    \"i05h\": \"~/destinE/statistics_i05h.nc\"\n",
    "}\n",
    "\n",
    "\n",
    "map = NotebookMap(config, stations, observations, simulations, stats=statistics)"
   ]
  },
  {
   "cell_type": "code",
   "execution_count": 3,
   "metadata": {},
   "outputs": [
    {
     "name": "stdout",
     "output_type": "stream",
     "text": [
      "Initialising ipyleaflet\n",
      "Initialising plotly\n",
      "Creating stations markers\n"
     ]
    },
    {
     "data": {
      "application/vnd.jupyter.widget-view+json": {
       "model_id": "283e6362ad2e41c692bcf262c6120e18",
       "version_major": 2,
       "version_minor": 0
      },
      "text/plain": [
       "VBox(children=(HBox(children=(Map(center=[0.0, 0.0], controls=(ZoomControl(options=['position', 'zoom_in_text'…"
      ]
     },
     "metadata": {},
     "output_type": "display_data"
    }
   ],
   "source": [
    "map.mapplot(colorby='kge', sim='i05h')"
   ]
  },
  {
   "cell_type": "code",
   "execution_count": 5,
   "metadata": {},
   "outputs": [
    {
     "data": {
      "text/plain": [
       "{'i05j': <xarray.Dataset>\n",
       " Dimensions:  (time: 10228, station: 49)\n",
       " Coordinates:\n",
       "   * time     (time) datetime64[ns] 2016-01-01T06:00:00 ... 2023-01-01\n",
       "   * station  (station) object 'G10058' 'G10065' 'G10020' ... 'G10003' 'G10052'\n",
       " Data variables:\n",
       "     dis      (time, station) float32 ...,\n",
       " 'i05h': <xarray.Dataset>\n",
       " Dimensions:  (time: 10228, station: 49)\n",
       " Coordinates:\n",
       "   * time     (time) datetime64[ns] 2016-01-01T06:00:00 ... 2023-01-01\n",
       "   * station  (station) object 'G10058' 'G10065' 'G10020' ... 'G10003' 'G10052'\n",
       " Data variables:\n",
       "     dis      (time, station) float32 ...}"
      ]
     },
     "execution_count": 5,
     "metadata": {},
     "output_type": "execute_result"
    }
   ],
   "source": [
    "map.sim_ds"
   ]
  },
  {
   "cell_type": "code",
   "execution_count": null,
   "metadata": {},
   "outputs": [],
   "source": [
    "import xarray as xr\n",
    "import pandas as pd\n",
    "\n",
    "def find_common_station(self):\n",
    "        ids = []\n",
    "\n",
    "        # Append sets of station IDs from datasets to the list\n",
    "        ids.append(set(self.obs_ds['station'].values))\n",
    "\n",
    "        for ds in self.sim_ds.values():\n",
    "            ids.append(set(ds['station'].values))\n",
    "\n",
    "        ids.append(set(self.stations_metadata[self.station_index]))\n",
    "\n",
    "        print(\"Station IDs from datasets:\", ids)\n",
    "\n",
    "        # Find common station IDs among the sets\n",
    "        common_ids = set.intersection(*ids)\n",
    "        print(\"Common Station IDs:\", common_ids)\n",
    "\n",
    "        return list(common_ids)\n",
    "\n",
    "# Load the observations dataset\n",
    "obs_ds = xr.open_dataset('~/destinE/station_attributes_with_obsdis06h_197001-202312_20230726_withEFAS.nc')\n",
    "\n",
    "# Load the simulations datasets\n",
    "sim_i05j = xr.open_dataset('~/destinE/cama_i05j_stations.nc')\n",
    "\n"
   ]
  },
  {
   "cell_type": "code",
   "execution_count": null,
   "metadata": {},
   "outputs": [],
   "source": [
    "obs_ds.obsdis.values"
   ]
  },
  {
   "cell_type": "code",
   "execution_count": null,
   "metadata": {},
   "outputs": [],
   "source": [
    "import xarray as xr\n",
    "import os\n",
    "\n",
    "simulations = {\n",
    "    \"i05j\": \"~/destinE/cama_i05j_stations.nc\",\n",
    "    \"i05h\": \"~/destinE/cama_i05h_stations.nc\"\n",
    "}\n",
    "datasets = {}\n",
    "datasets = {}\n",
    "for exp, path in simulations.items():\n",
    "    # Expanding the tilde\n",
    "    expanded_path = os.path.expanduser(path)\n",
    "    \n",
    "    if os.path.isfile(expanded_path):  # Check if it's a file\n",
    "        ds = xr.open_dataset(expanded_path)\n",
    "    elif os.path.isdir(expanded_path):  # Check if it's a directory\n",
    "        # Handle the case when it's a directory; \n",
    "        # assume all .nc files in the directory need to be combined\n",
    "        files = [f for f in os.listdir(expanded_path) if f.endswith('.nc')]\n",
    "        ds = xr.open_mfdataset([os.path.join(expanded_path, f) for f in files], combine='by_coords')\n",
    "    else:\n",
    "        raise ValueError(f\"Invalid path: {expanded_path}\")\n",
    "    datasets[exp] = ds\n"
   ]
  },
  {
   "cell_type": "code",
   "execution_count": null,
   "metadata": {},
   "outputs": [],
   "source": []
  }
 ],
 "metadata": {
  "kernelspec": {
   "display_name": "hat-dev",
   "language": "python",
   "name": "python3"
  },
  "language_info": {
   "codemirror_mode": {
    "name": "ipython",
    "version": 3
   },
   "file_extension": ".py",
   "mimetype": "text/x-python",
   "name": "python",
   "nbconvert_exporter": "python",
   "pygments_lexer": "ipython3",
   "version": "3.10.12"
  },
  "orig_nbformat": 4
 },
 "nbformat": 4,
 "nbformat_minor": 2
}
