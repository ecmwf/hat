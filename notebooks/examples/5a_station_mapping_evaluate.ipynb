{
 "cells": [
  {
   "cell_type": "markdown",
   "metadata": {},
   "source": [
    "### Use station mapping tool to map grids to station\n",
    "1. Create a dictionary to configure the station mapping tool inputs and parameters.\n",
    "    <br>The three parameters are criterias used to find optimum/ best-match grid. \n",
    "    \n",
    "2. Call and apply the imported python station mapping tool with the configured input.\n",
    "    <br>This willgenerate the dataframe containing station-grid locations following nearest neighbor approach (\"near_grid\") and the newly found best-match grid (\"optimum_grid\") "
   ]
  },
  {
   "cell_type": "code",
   "execution_count": null,
   "metadata": {},
   "outputs": [],
   "source": [
    "from hat.mapping.station_mapping import station_mapping\n",
    "\n",
    "# 1.  a configuration dictionary\n",
    "config = {\n",
    "    # Netcdf information\n",
    "    \"upstream_area_file\": \"/home/dadiyorto/freelance/02_ort_ecmwf/dev/hat/hat/mapping/upArea.nc\",  # file path\n",
    "    # Station Metadata CSV information\n",
    "    \"csv_file\": \"/home/dadiyorto/freelance/02_ort_ecmwf/dev/hat/hat/mapping/outlets.csv\",  # file path\n",
    "    \"csv_lat_col\": \"StationLat\",  # column name for latitude (string) - ensure col values: decimal degrees\n",
    "    \"csv_lon_col\": \"StationLon\",  # column name for longitude (string) - ensure col values: decimal degrees\n",
    "    \"csv_station_name_col\": \"StationName\",  # column name for station  (string)\n",
    "    \"csv_ups_col\": \"DrainingArea.km2.Provider\",  # column name for metadata of upstream  (string)\n",
    "    # Mapping parameters (3x)\n",
    "    \"max_neighboring_cells\": 5,  # Parameter 1: maximum radius to search for best cells (no. of cells)\n",
    "    \"max_area_diff\": 20,  # Parameter 2: acceptable/ optimum upstream area difference (%)\n",
    "    \"min_area_diff\": 0,  # Parameter 3: minimum upstream area difference (%) between nearest grid and the station metadata\n",
    "    # manual mapping as reference for evaluation (optional)\n",
    "    \"manual_lat_col\": \"LisfloodY\",  # column name for latitude of manually mapped station (string)\n",
    "    \"manual_lon_col\": \"LisfloodX\",  # column name for longitude of manually mapped station (string)\n",
    "    \"manual_area\": \"DrainingArea.km2.LDD\",  # column name for area of manually mapped station (string)\n",
    "    # if Output directory is provided, it will save the geodataframe outputs to geojson and csv readable by GIS or jupyter interactive\n",
    "    # \"out_directory\": None # put none if you don't want to save the output\n",
    "    \"out_directory\": \"/home/dadiyorto/freelance/02_ort_ecmwf/dev/hat/hat/mapping/output\",\n",
    "}\n",
    "\n",
    "# 2. Call the station mapping function with the config dictionary\n",
    "df = station_mapping(config)"
   ]
  },
  {
   "cell_type": "markdown",
   "metadata": {},
   "source": [
    "### Evaluate the station mapping output\n",
    "#### evaluate between manual mapping and <b>optimum grid approach"
   ]
  },
  {
   "cell_type": "code",
   "execution_count": null,
   "metadata": {},
   "outputs": [],
   "source": [
    "from hat.mapping.evaluation import count_and_analyze_area_distance\n",
    "\n",
    "# Count number of stations with area difference within acceptable area error margin and perfect distance\n",
    "error_margin = 10  # acceptable error margin for area difference (%)\n",
    "perfect_distance = 0  # perfect distance (cells) away from reference grid\n",
    "\n",
    "fig = count_and_analyze_area_distance(\n",
    "    df,\n",
    "    error_margin,\n",
    "    perfect_distance,\n",
    "    ref_name=\"manual\",\n",
    "    eval_name=\"optimum_grid\",\n",
    "    y_scale=\"log\",\n",
    ")"
   ]
  }
 ],
 "metadata": {
  "kernelspec": {
   "display_name": "venv-hat",
   "language": "python",
   "name": "venv-hat"
  },
  "language_info": {
   "codemirror_mode": {
    "name": "ipython",
    "version": 3
   },
   "file_extension": ".py",
   "mimetype": "text/x-python",
   "name": "python",
   "nbconvert_exporter": "python",
   "pygments_lexer": "ipython3",
   "version": "3.10.10"
  }
 },
 "nbformat": 4,
 "nbformat_minor": 4
}
