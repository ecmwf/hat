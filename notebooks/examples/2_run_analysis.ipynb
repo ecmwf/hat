{
 "cells": [
  {
   "cell_type": "markdown",
   "id": "c7a724d4-b4ba-4bfe-adb4-0aadf0bb057c",
   "metadata": {},
   "source": [
    "### Hydrological analysis functions"
   ]
  },
  {
   "cell_type": "code",
   "execution_count": null,
   "id": "b3d133a5-abb6-4816-8a0b-a2acf53cc381",
   "metadata": {},
   "outputs": [],
   "source": [
    "import os\n",
    "import xarray as xr\n",
    "\n",
    "from hat.hydrostats import run_analysis\n",
    "from hat.filters import filter_timeseries\n",
    "from hat.data import save_dataset_to_netcdf"
   ]
  },
  {
   "cell_type": "markdown",
   "id": "5520a7d1-1543-4a7f-a887-c6abf1d8c50f",
   "metadata": {},
   "source": [
    "#### Read timeseries from file"
   ]
  },
  {
   "cell_type": "markdown",
   "id": "f8992527-2bec-4142-babf-496a9e88f788",
   "metadata": {},
   "source": [
    "read simulation timeseries"
   ]
  },
  {
   "cell_type": "code",
   "execution_count": null,
   "id": "e73e9855-db59-4e83-ba18-39e96b50a992",
   "metadata": {},
   "outputs": [],
   "source": [
    "sims_ds = xr.open_dataset(\"./simulation_timeseries.nc\")"
   ]
  },
  {
   "cell_type": "markdown",
   "id": "71bb3f09-aedf-4a16-8986-203c13822498",
   "metadata": {},
   "source": [
    "read observation timeseries"
   ]
  },
  {
   "cell_type": "code",
   "execution_count": null,
   "id": "9a44cd65-6b4a-423a-82d4-0c9aeb12cd1e",
   "metadata": {},
   "outputs": [],
   "source": [
    "os.getenv(\"STATION_OBSERVATIONS\")"
   ]
  },
  {
   "cell_type": "code",
   "execution_count": null,
   "id": "a2b8dc81-6c70-4cb7-ba16-a31537f9c800",
   "metadata": {},
   "outputs": [],
   "source": [
    "obs_ds = xr.open_dataset(\n",
    "    os.getenv(\"STATION_OBSERVATIONS\")\n",
    ")  # obs_ds['station'] = [f'G{int(num):04d}' for num in obs_ds.station_id_num]# station ID from int"
   ]
  },
  {
   "cell_type": "markdown",
   "id": "8ac0628b-ff0e-4aa4-bd00-44707d21d246",
   "metadata": {},
   "source": [
    "#### Clean up timeseries\n",
    "Only keep..\n",
    "- stations in both the observation and simulation datasets\n",
    "- observations in the same time period as the simulations\n",
    "- observations with enough valid data in this timeperiod (threshold = 80% by default)\n",
    "- simulation that match the remaining observations"
   ]
  },
  {
   "cell_type": "code",
   "execution_count": null,
   "id": "d56f44c3-6a1c-404f-9839-8030f753498c",
   "metadata": {},
   "outputs": [],
   "source": [
    "sims_ds, obs_ds = filter_timeseries(sims_ds, obs_ds, threshold=70)"
   ]
  },
  {
   "cell_type": "code",
   "execution_count": null,
   "id": "99848c3b-d452-4437-bb61-240dee6c6dd4",
   "metadata": {},
   "outputs": [],
   "source": [
    "save_dataset_to_netcdf(obs_ds, \"./filtered_obs.nc\")\n",
    "save_dataset_to_netcdf(sims_ds, \"./filtered_sims.nc\")"
   ]
  },
  {
   "cell_type": "markdown",
   "id": "a2087209-fad7-48f3-bcc7-d17fdd7055f9",
   "metadata": {},
   "source": [
    "#### Run analysis"
   ]
  },
  {
   "cell_type": "code",
   "execution_count": null,
   "id": "117a4ff3-247d-470c-ba36-324bdf745b2d",
   "metadata": {},
   "outputs": [],
   "source": [
    "# calculate statistics\n",
    "statistics_ds = run_analysis([\"kge\", \"rmse\", \"mae\", \"correlation\"], sims_ds, obs_ds)"
   ]
  },
  {
   "cell_type": "code",
   "execution_count": null,
   "id": "fa85cedf-6b5f-41fd-85e4-12bdc3742dd9",
   "metadata": {},
   "outputs": [],
   "source": [
    "# save to netcdf\n",
    "save_dataset_to_netcdf(statistics_ds, \"./statistics.nc\")"
   ]
  },
  {
   "cell_type": "code",
   "execution_count": null,
   "id": "33df4ba0-c5ec-4c5b-88fa-306e9e1af5b5",
   "metadata": {},
   "outputs": [],
   "source": [
    "statistics_ds"
   ]
  }
 ],
 "metadata": {
  "kernelspec": {
   "display_name": "Python 3 (ipykernel)",
   "language": "python",
   "name": "python3"
  },
  "language_info": {
   "codemirror_mode": {
    "name": "ipython",
    "version": 3
   },
   "file_extension": ".py",
   "mimetype": "text/x-python",
   "name": "python",
   "nbconvert_exporter": "python",
   "pygments_lexer": "ipython3",
   "version": "3.10.11"
  }
 },
 "nbformat": 4,
 "nbformat_minor": 5
}
