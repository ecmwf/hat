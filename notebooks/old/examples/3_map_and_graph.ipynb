{
 "cells": [
  {
   "cell_type": "markdown",
   "id": "032f180e-a4fa-44eb-a6b5-c40efb8eb499",
   "metadata": {},
   "source": [
    "#### Map and graph results"
   ]
  },
  {
   "cell_type": "code",
   "execution_count": null,
   "id": "0fd447a8-09e2-4a6d-a13c-e4637de015dc",
   "metadata": {},
   "outputs": [],
   "source": [
    "import xarray as xr\n",
    "\n",
    "from hat.hydrostats import display_map\n",
    "from hat.graphs import graph_sims_and_obs"
   ]
  },
  {
   "cell_type": "markdown",
   "id": "e915411d-1d0d-4146-8dc2-8fa76f2ed286",
   "metadata": {},
   "source": [
    "read analysis results"
   ]
  },
  {
   "cell_type": "code",
   "execution_count": null,
   "id": "50be7fd6-a842-4e73-801d-ac11fb3d0093",
   "metadata": {},
   "outputs": [],
   "source": [
    "stats = xr.open_dataset(\"statistics.nc\")"
   ]
  },
  {
   "cell_type": "markdown",
   "id": "271c8dcd-b6e1-4eb1-b7ed-f2d3d6e7212b",
   "metadata": {},
   "source": [
    "show map"
   ]
  },
  {
   "cell_type": "code",
   "execution_count": null,
   "id": "f6ff8eec-b69a-4694-bf51-e304b7fc37e9",
   "metadata": {},
   "outputs": [],
   "source": [
    "display_map(stats, \"kge\")"
   ]
  },
  {
   "cell_type": "markdown",
   "id": "c59ed758-bd67-4ab5-989d-6a750380476e",
   "metadata": {},
   "source": [
    "show timeseries graph"
   ]
  },
  {
   "cell_type": "code",
   "execution_count": null,
   "id": "3392a983-9ba4-46ae-9608-5c210ff09f29",
   "metadata": {},
   "outputs": [],
   "source": [
    "obs = xr.open_dataset(\"filtered_obs.nc\")\n",
    "sims = xr.open_dataset(\"filtered_sims.nc\")"
   ]
  },
  {
   "cell_type": "code",
   "execution_count": null,
   "id": "dee0f365-9af8-4f08-aa5d-bdd1f173b88b",
   "metadata": {},
   "outputs": [],
   "source": [
    "ID = \"G9217\"\n",
    "graph_sims_and_obs(sims, obs, ID)"
   ]
  },
  {
   "cell_type": "code",
   "execution_count": null,
   "id": "d2f7721d-249f-402d-9bd0-5a15d14767e3",
   "metadata": {},
   "outputs": [],
   "source": [
    "print(f\"Station {ID}: KGE = {stats.sel(station=ID).kge.data:.2f}\")"
   ]
  },
  {
   "cell_type": "code",
   "execution_count": null,
   "id": "8dcc944e-e149-4c61-8edc-d727743ebdd0",
   "metadata": {},
   "outputs": [],
   "source": []
  }
 ],
 "metadata": {
  "kernelspec": {
   "display_name": "Python 3 (ipykernel)",
   "language": "python",
   "name": "python3"
  },
  "language_info": {
   "codemirror_mode": {
    "name": "ipython",
    "version": 3
   },
   "file_extension": ".py",
   "mimetype": "text/x-python",
   "name": "python",
   "nbconvert_exporter": "python",
   "pygments_lexer": "ipython3",
   "version": "3.10.11"
  }
 },
 "nbformat": 4,
 "nbformat_minor": 5
}
