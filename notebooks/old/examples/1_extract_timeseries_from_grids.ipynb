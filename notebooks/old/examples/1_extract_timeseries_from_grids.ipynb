{
 "cells": [
  {
   "cell_type": "markdown",
   "id": "48ba26b1-f063-4fed-8184-a6f20549cc2a",
   "metadata": {},
   "source": [
    "#### Extract timeseries from grids\n",
    "\n",
    "Extract simulation timeseries from gridded data files at station locations"
   ]
  },
  {
   "cell_type": "code",
   "execution_count": null,
   "id": "e8521269-8b58-4f51-a329-c9b103f81eef",
   "metadata": {},
   "outputs": [],
   "source": [
    "import os\n",
    "\n",
    "from hat.observations import read_station_metadata\n",
    "from hat.simulations import extract_timeseries"
   ]
  },
  {
   "cell_type": "markdown",
   "id": "f8f4a550-2734-4f20-a18c-3cb4c72202cf",
   "metadata": {},
   "source": [
    "#### Filepaths"
   ]
  },
  {
   "cell_type": "code",
   "execution_count": null,
   "id": "80daec21-45f6-4b01-8f4b-e63d49b905e4",
   "metadata": {},
   "outputs": [],
   "source": [
    "station_metadata_filepath = os.getenv(\"STATION_METADATA\")\n",
    "simulation_datadir = os.getenv(\"DESTINE_DAILY_2020\")"
   ]
  },
  {
   "cell_type": "markdown",
   "id": "0b0904e8-dc09-4648-908b-17ff200d420a",
   "metadata": {},
   "source": [
    "#### Station metadata"
   ]
  },
  {
   "cell_type": "markdown",
   "id": "5a939b54-265c-461e-a43e-d29bb34d288b",
   "metadata": {},
   "source": [
    "Read station metadata"
   ]
  },
  {
   "cell_type": "code",
   "execution_count": null,
   "id": "7cc64e93-eb65-42f4-b9f9-c25895da94ed",
   "metadata": {},
   "outputs": [],
   "source": [
    "station_metadata = read_station_metadata(station_metadata_filepath)\n",
    "station_metadata.plot()"
   ]
  },
  {
   "cell_type": "markdown",
   "id": "ad318d06-2e62-4957-9f1c-aa61d283c4c3",
   "metadata": {},
   "source": [
    "#### Simulations"
   ]
  },
  {
   "cell_type": "markdown",
   "id": "ee67932a-810f-4521-8cf2-fe0e5e4e8245",
   "metadata": {},
   "source": [
    "Extract simulation timeseries"
   ]
  },
  {
   "cell_type": "code",
   "execution_count": null,
   "id": "fbca2b7e-6c6a-476e-b228-5f3334ae88d1",
   "metadata": {},
   "outputs": [],
   "source": [
    "# (optionally) update configuration\n",
    "config = {\"simulation_input_file_extension\": \".nc\"}"
   ]
  },
  {
   "cell_type": "code",
   "execution_count": null,
   "id": "24354559-a814-4ac4-b652-f0901714e3b2",
   "metadata": {},
   "outputs": [],
   "source": [
    "timeseries = extract_timeseries(station_metadata, simulation_datadir, config=config)"
   ]
  },
  {
   "cell_type": "markdown",
   "id": "033f786a-a314-4314-b534-6e5f8496f109",
   "metadata": {},
   "source": [
    "Save timeseries to NetCDF file"
   ]
  },
  {
   "cell_type": "code",
   "execution_count": null,
   "id": "0edd470e-6233-4d87-b1bb-ba3c0006bfd0",
   "metadata": {},
   "outputs": [],
   "source": [
    "from hat.data import save_dataset_to_netcdf\n",
    "\n",
    "save_dataset_to_netcdf(timeseries, \"./simulation_timeseries.nc\")"
   ]
  }
 ],
 "metadata": {
  "kernelspec": {
   "display_name": "Python 3 (ipykernel)",
   "language": "python",
   "name": "python3"
  },
  "language_info": {
   "codemirror_mode": {
    "name": "ipython",
    "version": 3
   },
   "file_extension": ".py",
   "mimetype": "text/x-python",
   "name": "python",
   "nbconvert_exporter": "python",
   "pygments_lexer": "ipython3",
   "version": "3.10.11"
  }
 },
 "nbformat": 4,
 "nbformat_minor": 5
}
