{
 "cells": [
  {
   "cell_type": "markdown",
   "metadata": {},
   "source": [
    "Import necessart visualisation library and define inputs simulation and additional vector to add"
   ]
  },
  {
   "cell_type": "code",
   "execution_count": 1,
   "metadata": {
    "tags": []
   },
   "outputs": [],
   "source": [
    "from datetime import datetime\n",
    "config = {\n",
    "    \"stations\": \"/ec/ws4/tc/emos/work/cems/floods/efas/emos/efas/lib/pp/outlets.csv\",\n",
    "    \"station_epsg\": 4326,\n",
    "    \"station_id_column_name\": \"ObsID\",\n",
    "    \"station_filters\": \"PostProcess == TRUE\",\n",
    "    \"station_coordinates\": [\"StationLon\", \"StationLat\"],\n",
    "    \"pp\": {\n",
    "        \"date\": datetime.strptime(\"2024010100\", '%Y%m%d%H'),\n",
    "        \"source\": \"/home/macw/git/efas/pp\",\n",
    "        \"assets\": \"/ec/ws4/tc/emos/work/cems/floods/efas/assets/efas_5.0/ppData/models\",\n",
    "        \"climatology\": \"/perm/mogm/EFASNext_pp\",\n",
    "        \"forecast\": \"/ec/ws4/tc/emos/work/cems/floods/efas/emos/efas/europe5km\",\n",
    "        \"observations\": \"/perm/macw/hat/pp/observations\"\n",
    "    }\n",
    "}\n"
   ]
  },
  {
   "cell_type": "markdown",
   "metadata": {},
   "source": [
    "Initialise the map object from the configuration."
   ]
  },
  {
   "cell_type": "code",
   "execution_count": 2,
   "metadata": {},
   "outputs": [
    {
     "name": "stdout",
     "output_type": "stream",
     "text": [
      "/usr/local/apps/hat/0.7.0/lib/python3.10/site-packages/hat/__init__.py\n",
      "could not import scripts, never mind\n",
      "/perm/macw/hat/pp/observations/Qobs_nrt06.csv\n",
      "/perm/macw/hat/pp/observations/Qobs_nrt24.csv\n"
     ]
    }
   ],
   "source": [
    "import os\n",
    "import hat\n",
    "print(hat.__file__)\n",
    "from hat.interactive.explorers import PPForecastExplorer\n",
    "map = PPForecastExplorer(config)"
   ]
  },
  {
   "cell_type": "markdown",
   "metadata": {},
   "source": [
    "Display map and use the tool to show plot of the simulation time series."
   ]
  },
  {
   "cell_type": "code",
   "execution_count": 3,
   "metadata": {},
   "outputs": [
    {
     "data": {
      "application/vnd.jupyter.widget-view+json": {
       "model_id": "500e08cca2b841a69f35fba7d8e51997",
       "version_major": 2,
       "version_minor": 0
      },
      "text/plain": [
       "VBox(children=(Label(value='Interactive Map Visualisation for Hydrological Stations', layout=Layout(justify_co…"
      ]
     },
     "metadata": {},
     "output_type": "display_data"
    }
   ],
   "source": [
    "map.plot()"
   ]
  },
  {
   "cell_type": "code",
   "execution_count": null,
   "metadata": {},
   "outputs": [],
   "source": []
  }
 ],
 "metadata": {
  "kernelspec": {
   "display_name": "Python 3.10.10-01",
   "language": "python",
   "name": "python3"
  },
  "language_info": {
   "codemirror_mode": {
    "name": "ipython",
    "version": 3
   },
   "file_extension": ".py",
   "mimetype": "text/x-python",
   "name": "python",
   "nbconvert_exporter": "python",
   "pygments_lexer": "ipython3",
   "version": "3.10.10"
  }
 },
 "nbformat": 4,
 "nbformat_minor": 4
}
